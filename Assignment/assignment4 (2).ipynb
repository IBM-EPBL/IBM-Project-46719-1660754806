{
 "cells": [
  {
   "cell_type": "markdown",
   "id": "3d8fadfe",
   "metadata": {},
   "source": [
    "# Assignment 4\n",
    "\n",
    "Name : Samiha Banu\n",
    "Roll No :963219104029\n",
    "\n",
    "1.Loading Dataset into tool"
   ]
  },
  {
   "cell_type": "code",
   "execution_count": 1,
   "id": "96c3b55f",
   "metadata": {},
   "outputs": [],
   "source": [
    "import pandas as pd \n",
    "import numpy as np"
   ]
  },
  {
   "cell_type": "code",
   "execution_count": 2,
   "id": "42c586d2",
   "metadata": {},
   "outputs": [
    {
     "data": {
      "text/html": [
       "<div>\n",
       "<style scoped>\n",
       "    .dataframe tbody tr th:only-of-type {\n",
       "        vertical-align: middle;\n",
       "    }\n",
       "\n",
       "    .dataframe tbody tr th {\n",
       "        vertical-align: top;\n",
       "    }\n",
       "\n",
       "    .dataframe thead th {\n",
       "        text-align: right;\n",
       "    }\n",
       "</style>\n",
       "<table border=\"1\" class=\"dataframe\">\n",
       "  <thead>\n",
       "    <tr style=\"text-align: right;\">\n",
       "      <th></th>\n",
       "      <th>Sex</th>\n",
       "      <th>Length</th>\n",
       "      <th>Diameter</th>\n",
       "      <th>Height</th>\n",
       "      <th>Whole weight</th>\n",
       "      <th>Shucked weight</th>\n",
       "      <th>Viscera weight</th>\n",
       "      <th>Shell weight</th>\n",
       "      <th>Rings</th>\n",
       "    </tr>\n",
       "  </thead>\n",
       "  <tbody>\n",
       "    <tr>\n",
       "      <th>0</th>\n",
       "      <td>M</td>\n",
       "      <td>0.455</td>\n",
       "      <td>0.365</td>\n",
       "      <td>0.095</td>\n",
       "      <td>0.5140</td>\n",
       "      <td>0.2245</td>\n",
       "      <td>0.1010</td>\n",
       "      <td>0.150</td>\n",
       "      <td>15</td>\n",
       "    </tr>\n",
       "    <tr>\n",
       "      <th>1</th>\n",
       "      <td>M</td>\n",
       "      <td>0.350</td>\n",
       "      <td>0.265</td>\n",
       "      <td>0.090</td>\n",
       "      <td>0.2255</td>\n",
       "      <td>0.0995</td>\n",
       "      <td>0.0485</td>\n",
       "      <td>0.070</td>\n",
       "      <td>7</td>\n",
       "    </tr>\n",
       "    <tr>\n",
       "      <th>2</th>\n",
       "      <td>F</td>\n",
       "      <td>0.530</td>\n",
       "      <td>0.420</td>\n",
       "      <td>0.135</td>\n",
       "      <td>0.6770</td>\n",
       "      <td>0.2565</td>\n",
       "      <td>0.1415</td>\n",
       "      <td>0.210</td>\n",
       "      <td>9</td>\n",
       "    </tr>\n",
       "    <tr>\n",
       "      <th>3</th>\n",
       "      <td>M</td>\n",
       "      <td>0.440</td>\n",
       "      <td>0.365</td>\n",
       "      <td>0.125</td>\n",
       "      <td>0.5160</td>\n",
       "      <td>0.2155</td>\n",
       "      <td>0.1140</td>\n",
       "      <td>0.155</td>\n",
       "      <td>10</td>\n",
       "    </tr>\n",
       "    <tr>\n",
       "      <th>4</th>\n",
       "      <td>I</td>\n",
       "      <td>0.330</td>\n",
       "      <td>0.255</td>\n",
       "      <td>0.080</td>\n",
       "      <td>0.2050</td>\n",
       "      <td>0.0895</td>\n",
       "      <td>0.0395</td>\n",
       "      <td>0.055</td>\n",
       "      <td>7</td>\n",
       "    </tr>\n",
       "  </tbody>\n",
       "</table>\n",
       "</div>"
      ],
      "text/plain": [
       "  Sex  Length  Diameter  Height  Whole weight  Shucked weight  Viscera weight  \\\n",
       "0   M   0.455     0.365   0.095        0.5140          0.2245          0.1010   \n",
       "1   M   0.350     0.265   0.090        0.2255          0.0995          0.0485   \n",
       "2   F   0.530     0.420   0.135        0.6770          0.2565          0.1415   \n",
       "3   M   0.440     0.365   0.125        0.5160          0.2155          0.1140   \n",
       "4   I   0.330     0.255   0.080        0.2050          0.0895          0.0395   \n",
       "\n",
       "   Shell weight  Rings  \n",
       "0         0.150     15  \n",
       "1         0.070      7  \n",
       "2         0.210      9  \n",
       "3         0.155     10  \n",
       "4         0.055      7  "
      ]
     },
     "execution_count": 2,
     "metadata": {},
     "output_type": "execute_result"
    }
   ],
   "source": [
    "dataframe = pd.read_csv(\"Downloads/abalone.csv\")\n",
    "dataframe.head()"
   ]
  },
  {
   "cell_type": "code",
   "execution_count": 3,
   "id": "180df6d3",
   "metadata": {},
   "outputs": [],
   "source": [
    "import seaborn as sns"
   ]
  },
  {
   "cell_type": "code",
   "execution_count": 5,
   "id": "4447153c",
   "metadata": {},
   "outputs": [
    {
     "data": {
      "text/plain": [
       "<AxesSubplot: >"
      ]
     },
     "execution_count": 5,
     "metadata": {},
     "output_type": "execute_result"
    },
    {
     "data": {
      "image/png": "[encoded data removed]",
      "text/plain": [
       "<Figure size 432x288 with 1 Axes>"
      ]
     },
     "metadata": {
      "needs_background": "light"
     },
     "output_type": "display_data"
    }
   ],
   "source": [
    "sns.boxplot(dataframe['Diameter'])"
   ]
  },
  {
   "cell_type": "code",
   "execution_count": 6,
   "id": "c2104485",
   "metadata": {},
   "outputs": [],
   "source": [
    "import matplotlib.pyplot as plt\n"
   ]
  },
  {
   "cell_type": "code",
   "execution_count": 7,
   "id": "3537bf0e",
   "metadata": {},
   "outputs": [
    {
     "data": {
      "text/plain": [
       "(array([  13.,   66.,  180.,  344.,  513.,  812., 1017.,  934.,  275.,\n",
       "          23.]),\n",
       " array([0.055 , 0.1145, 0.174 , 0.2335, 0.293 , 0.3525, 0.412 , 0.4715,\n",
       "        0.531 , 0.5905, 0.65  ]),\n",
       " <BarContainer object of 10 artists>)"
      ]
     },
     "execution_count": 7,
     "metadata": {},
     "output_type": "execute_result"
    },
    {
     "data": {
      "image/png": "[encoded data removed]",
      "text/plain": [
       "<Figure size 432x288 with 1 Axes>"
      ]
     },
     "metadata": {
      "needs_background": "light"
     },
     "output_type": "display_data"
    }
   ],
   "source": [
    "plt.hist(dataframe['Diameter'])"
   ]
  },
  {
   "cell_type": "code",
   "execution_count": 5,
   "id": "f2d377f4",
   "metadata": {},
   "outputs": [],
   "source": [
    "import matplotlib.pyplot as plt"
   ]
  },
  {
   "cell_type": "code",
   "execution_count": 6,
   "id": "7ac2b4fb",
   "metadata": {},
   "outputs": [
    {
     "data": {
      "text/plain": [
       "[<matplotlib.lines.Line2D at 0x119eead6830>]"
      ]
     },
     "execution_count": 6,
     "metadata": {},
     "output_type": "execute_result"
    },
    {
     "data": {
      "image/png": "[encoded data removed]",
      "text/plain": [
       "<Figure size 432x288 with 1 Axes>"
      ]
     },
     "metadata": {
      "needs_background": "light"
     },
     "output_type": "display_data"
    }
   ],
   "source": [
    "plt.plot(dataframe['Diameter'].head(10))"
   ]
  },
  {
   "cell_type": "code",
   "execution_count": 8,
   "id": "a581f533",
   "metadata": {},
   "outputs": [
    {
     "data": {
      "text/plain": [
       "([<matplotlib.patches.Wedge at 0x119f0c1cb80>,\n",
       "  <matplotlib.patches.Wedge at 0x119f0c1fdf0>,\n",
       "  <matplotlib.patches.Wedge at 0x119f0c404c0>,\n",
       "  <matplotlib.patches.Wedge at 0x119f0c40b50>,\n",
       "  <matplotlib.patches.Wedge at 0x119f0c411e0>],\n",
       " [Text(0.8507215626110558, 0.6973326486753676, ''),\n",
       "  Text(-0.32611344931648134, 1.0505474849691026, ''),\n",
       "  Text(-1.0998053664078908, -0.02069193128747144, ''),\n",
       "  Text(-0.08269436219656089, -1.096887251480709, ''),\n",
       "  Text(0.9758446362287218, -0.5076684409569241, '')],\n",
       " [Text(0.464029943242394, 0.3803632629138369, '21.856'),\n",
       "  Text(-0.17788006326353525, 0.5730259008922377, '15.868'),\n",
       "  Text(-0.5998938362224858, -0.011286507974984419, '25.150'),\n",
       "  Text(-0.045106015743578656, -0.5983021371712958, '21.856'),\n",
       "  Text(0.5322788924883937, -0.2769100587037768, '15.269')])"
      ]
     },
     "execution_count": 8,
     "metadata": {},
     "output_type": "execute_result"
    },
    {
     "data": {
      "image/png": "[encoded data removed]",
      "text/plain": [
       "<Figure size 432x288 with 1 Axes>"
      ]
     },
     "metadata": {},
     "output_type": "display_data"
    }
   ],
   "source": [
    "plt.pie(dataframe['Diameter'].head(),autopct='%.3f')"
   ]
  },
  {
   "cell_type": "code",
   "execution_count": 19,
   "id": "69c426a8",
   "metadata": {},
   "outputs": [],
   "source": [
    "import seaborn as sns\n",
    "import warnings\n",
    "warnings.filterwarnings('ignore')"
   ]
  },
  {
   "cell_type": "code",
   "execution_count": 20,
   "id": "df014bf0",
   "metadata": {},
   "outputs": [
    {
     "data": {
      "text/plain": [
       "<AxesSubplot: xlabel='Diameter', ylabel='Density'>"
      ]
     },
     "execution_count": 20,
     "metadata": {},
     "output_type": "execute_result"
    },
    {
     "data": {
      "image/png": "[encoded data removed]",
      "text/plain": [
       "<Figure size 432x288 with 1 Axes>"
      ]
     },
     "metadata": {
      "needs_background": "light"
     },
     "output_type": "display_data"
    }
   ],
   "source": [
    "sns.distplot(dataframe['Diameter'].head(300))"
   ]
  },
  {
   "cell_type": "code",
   "execution_count": 23,
   "id": "aceba5b7",
   "metadata": {},
   "outputs": [],
   "source": [
    "import matplotlib.pyplot as plt"
   ]
  },
  {
   "cell_type": "code",
   "execution_count": 26,
   "id": "7c39a8c1",
   "metadata": {},
   "outputs": [
    {
     "data": {
      "text/plain": [
       "<matplotlib.collections.PathCollection at 0x119fb199210>"
      ]
     },
     "execution_count": 26,
     "metadata": {},
     "output_type": "execute_result"
    },
    {
     "data": {
      "image/png": "[encoded data removed]",
      "text/plain": [
       "<Figure size 432x288 with 1 Axes>"
      ]
     },
     "metadata": {
      "needs_background": "light"
     },
     "output_type": "display_data"
    }
   ],
   "source": [
    "plt.scatter(dataframe['Diameter'].head(400),dataframe['Length'].head(400))"
   ]
  },
  {
   "cell_type": "code",
   "execution_count": 27,
   "id": "35ee113c",
   "metadata": {},
   "outputs": [],
   "source": [
    "import matplotlib.pyplot as plt"
   ]
  },
  {
   "cell_type": "code",
   "execution_count": 28,
   "id": "e20a12fd",
   "metadata": {},
   "outputs": [
    {
     "data": {
      "text/plain": [
       "Text(0, 0.5, 'Rings')"
      ]
     },
     "execution_count": 28,
     "metadata": {},
     "output_type": "execute_result"
    },
    {
     "data": {
      "image/png": "[encoded data removed]",
      "text/plain": [
       "<Figure size 432x288 with 1 Axes>"
      ]
     },
     "metadata": {
      "needs_background": "light"
     },
     "output_type": "display_data"
    }
   ],
   "source": [
    "plt.bar(dataframe['Sex'].head(20),dataframe['Rings'].head(20))\n",
    "plt.title('Bar plot')\n",
    "plt.xlabel('Diameter')\n",
    "plt.ylabel('Rings')"
   ]
  },
  {
   "cell_type": "code",
   "execution_count": 51,
   "id": "cc1d6afa",
   "metadata": {},
   "outputs": [],
   "source": [
    "import seaborn as sns\n",
    "import matplotlib.pyplot as plt"
   ]
  },
  {
   "cell_type": "code",
   "execution_count": 55,
   "id": "ec3a0617",
   "metadata": {},
   "outputs": [
    {
     "ename": "TypeError",
     "evalue": "barplot() takes from 0 to 1 positional arguments but 2 were given",
     "output_type": "error",
     "traceback": [
      "\u001b[1;31m---------------------------------------------------------------------------\u001b[0m",
      "\u001b[1;31mTypeError\u001b[0m                                 Traceback (most recent call last)",
      "Input \u001b[1;32mIn [55]\u001b[0m, in \u001b[0;36m<cell line: 1>\u001b[1;34m()\u001b[0m\n\u001b[1;32m----> 1\u001b[0m \u001b[43msns\u001b[49m\u001b[38;5;241;43m.\u001b[39;49m\u001b[43mbarplot\u001b[49m\u001b[43m(\u001b[49m\u001b[43mdataframe\u001b[49m\u001b[43m \u001b[49m\u001b[43m[\u001b[49m\u001b[38;5;124;43m'\u001b[39;49m\u001b[38;5;124;43mSex\u001b[39;49m\u001b[38;5;124;43m'\u001b[39;49m\u001b[43m]\u001b[49m\u001b[43m,\u001b[49m\u001b[43m \u001b[49m\u001b[43mdataframe\u001b[49m\u001b[43m[\u001b[49m\u001b[38;5;124;43m'\u001b[39;49m\u001b[38;5;124;43mRings\u001b[39;49m\u001b[38;5;124;43m'\u001b[39;49m\u001b[43m]\u001b[49m\u001b[43m)\u001b[49m\n",
      "\u001b[1;31mTypeError\u001b[0m: barplot() takes from 0 to 1 positional arguments but 2 were given"
     ]
    }
   ],
   "source": [
    "sns.barplot(dataframe ['Sex'], dataframe['Rings'])"
   ]
  },
  {
   "cell_type": "code",
   "execution_count": 127,
   "id": "db19ffd3",
   "metadata": {},
   "outputs": [],
   "source": [
    "import seaborn as sns\n",
    "import pandas as pd \n",
    "import numpy as np\n",
    "import matplotlib.pyplot as plt"
   ]
  },
  {
   "cell_type": "code",
   "execution_count": 135,
   "id": "9b82c21b",
   "metadata": {},
   "outputs": [
    {
     "data": {
      "text/plain": [
       "<seaborn.axisgrid.JointGrid at 0x119fe6d30a0>"
      ]
     },
     "execution_count": 135,
     "metadata": {},
     "output_type": "execute_result"
    },
    {
     "data": {
      "image/png": "[encoded data removed]",
      "text/plain": [
       "<Figure size 432x432 with 3 Axes>"
      ]
     },
     "metadata": {
      "needs_background": "light"
     },
     "output_type": "display_data"
    }
   ],
   "source": [
    "sns.jointplot(dataframe['Diameter'].head(50))"
   ]
  },
  {
   "cell_type": "code",
   "execution_count": 183,
   "id": "bff38dbc",
   "metadata": {},
   "outputs": [],
   "source": [
    "import seaborn as sns\n",
    "import matplotlib.pyplot as plt"
   ]
  },
  {
   "cell_type": "code",
   "execution_count": 172,
   "id": "c2ee29aa",
   "metadata": {},
   "outputs": [
    {
     "data": {
      "text/plain": [
       "<AxesSubplot: ylabel='Diameter'>"
      ]
     },
     "execution_count": 172,
     "metadata": {},
     "output_type": "execute_result"
    },
    {
     "data": {
      "image/png": "[encoded data removed]",
      "text/plain": [
       "<Figure size 432x288 with 1 Axes>"
      ]
     },
     "metadata": {
      "needs_background": "light"
     },
     "output_type": "display_data"
    }
   ],
   "source": [
    "sns.lineplot(dataframe['Diameter'].head())"
   ]
  },
  {
   "cell_type": "code",
   "execution_count": 146,
   "id": "a932e1e3",
   "metadata": {},
   "outputs": [
    {
     "data": {
      "text/plain": [
       "<AxesSubplot: >"
      ]
     },
     "execution_count": 146,
     "metadata": {},
     "output_type": "execute_result"
    },
    {
     "data": {
      "image/png": "[encoded data removed]",
      "text/plain": [
       "<Figure size 432x288 with 1 Axes>"
      ]
     },
     "metadata": {
      "needs_background": "light"
     },
     "output_type": "display_data"
    }
   ],
   "source": [
    "sns.boxplot(dataframe['Length'].head(10))"
   ]
  },
  {
   "cell_type": "code",
   "execution_count": 151,
   "id": "0b9d01f6",
   "metadata": {},
   "outputs": [
    {
     "data": {
      "text/plain": [
       "<AxesSubplot: >"
      ]
     },
     "execution_count": 151,
     "metadata": {},
     "output_type": "execute_result"
    },
    {
     "data": {
      "image/png": "[encoded data removed]",
      "text/plain": [
       "<Figure size 576x360 with 2 Axes>"
      ]
     },
     "metadata": {
      "needs_background": "light"
     },
     "output_type": "display_data"
    }
   ],
   "source": [
    "fig=plt.figure(figsize=(8,5))\n",
    "sns.heatmap(dataframe.head().corr(),annot=True)"
   ]
  },
  {
   "cell_type": "code",
   "execution_count": null,
   "id": "faec0ee1",
   "metadata": {},
   "outputs": [],
   "source": [
    "sns.pairplot(dataframe.head(),hue='Height')"
   ]
  },
  {
   "cell_type": "code",
   "execution_count": null,
   "id": "aa3c87e1",
   "metadata": {},
   "outputs": [],
   "source": [
    "sns.pairplot(dataframe.head())"
   ]
  },
  {
   "cell_type": "code",
   "execution_count": 64,
   "id": "bc23780e",
   "metadata": {},
   "outputs": [
    {
     "data": {
      "text/html": [
       "<div>\n",
       "<style scoped>\n",
       "    .dataframe tbody tr th:only-of-type {\n",
       "        vertical-align: middle;\n",
       "    }\n",
       "\n",
       "    .dataframe tbody tr th {\n",
       "        vertical-align: top;\n",
       "    }\n",
       "\n",
       "    .dataframe thead th {\n",
       "        text-align: right;\n",
       "    }\n",
       "</style>\n",
       "<table border=\"1\" class=\"dataframe\">\n",
       "  <thead>\n",
       "    <tr style=\"text-align: right;\">\n",
       "      <th></th>\n",
       "      <th>Sex</th>\n",
       "      <th>Length</th>\n",
       "      <th>Diameter</th>\n",
       "      <th>Height</th>\n",
       "      <th>Whole weight</th>\n",
       "      <th>Shucked weight</th>\n",
       "      <th>Viscera weight</th>\n",
       "      <th>Shell weight</th>\n",
       "      <th>Rings</th>\n",
       "    </tr>\n",
       "  </thead>\n",
       "  <tbody>\n",
       "    <tr>\n",
       "      <th>0</th>\n",
       "      <td>M</td>\n",
       "      <td>0.455</td>\n",
       "      <td>0.365</td>\n",
       "      <td>0.095</td>\n",
       "      <td>0.5140</td>\n",
       "      <td>0.2245</td>\n",
       "      <td>0.1010</td>\n",
       "      <td>0.150</td>\n",
       "      <td>15</td>\n",
       "    </tr>\n",
       "    <tr>\n",
       "      <th>1</th>\n",
       "      <td>M</td>\n",
       "      <td>0.350</td>\n",
       "      <td>0.265</td>\n",
       "      <td>0.090</td>\n",
       "      <td>0.2255</td>\n",
       "      <td>0.0995</td>\n",
       "      <td>0.0485</td>\n",
       "      <td>0.070</td>\n",
       "      <td>7</td>\n",
       "    </tr>\n",
       "    <tr>\n",
       "      <th>2</th>\n",
       "      <td>F</td>\n",
       "      <td>0.530</td>\n",
       "      <td>0.420</td>\n",
       "      <td>0.135</td>\n",
       "      <td>0.6770</td>\n",
       "      <td>0.2565</td>\n",
       "      <td>0.1415</td>\n",
       "      <td>0.210</td>\n",
       "      <td>9</td>\n",
       "    </tr>\n",
       "    <tr>\n",
       "      <th>3</th>\n",
       "      <td>M</td>\n",
       "      <td>0.440</td>\n",
       "      <td>0.365</td>\n",
       "      <td>0.125</td>\n",
       "      <td>0.5160</td>\n",
       "      <td>0.2155</td>\n",
       "      <td>0.1140</td>\n",
       "      <td>0.155</td>\n",
       "      <td>10</td>\n",
       "    </tr>\n",
       "    <tr>\n",
       "      <th>4</th>\n",
       "      <td>I</td>\n",
       "      <td>0.330</td>\n",
       "      <td>0.255</td>\n",
       "      <td>0.080</td>\n",
       "      <td>0.2050</td>\n",
       "      <td>0.0895</td>\n",
       "      <td>0.0395</td>\n",
       "      <td>0.055</td>\n",
       "      <td>7</td>\n",
       "    </tr>\n",
       "  </tbody>\n",
       "</table>\n",
       "</div>"
      ],
      "text/plain": [
       "  Sex  Length  Diameter  Height  Whole weight  Shucked weight  Viscera weight  \\\n",
       "0   M   0.455     0.365   0.095        0.5140          0.2245          0.1010   \n",
       "1   M   0.350     0.265   0.090        0.2255          0.0995          0.0485   \n",
       "2   F   0.530     0.420   0.135        0.6770          0.2565          0.1415   \n",
       "3   M   0.440     0.365   0.125        0.5160          0.2155          0.1140   \n",
       "4   I   0.330     0.255   0.080        0.2050          0.0895          0.0395   \n",
       "\n",
       "   Shell weight  Rings  \n",
       "0         0.150     15  \n",
       "1         0.070      7  \n",
       "2         0.210      9  \n",
       "3         0.155     10  \n",
       "4         0.055      7  "
      ]
     },
     "execution_count": 64,
     "metadata": {},
     "output_type": "execute_result"
    }
   ],
   "source": [
    "dataframe.head()"
   ]
  },
  {
   "cell_type": "code",
   "execution_count": 66,
   "id": "8b4c16d6",
   "metadata": {},
   "outputs": [
    {
     "data": {
      "text/html": [
       "<div>\n",
       "<style scoped>\n",
       "    .dataframe tbody tr th:only-of-type {\n",
       "        vertical-align: middle;\n",
       "    }\n",
       "\n",
       "    .dataframe tbody tr th {\n",
       "        vertical-align: top;\n",
       "    }\n",
       "\n",
       "    .dataframe thead th {\n",
       "        text-align: right;\n",
       "    }\n",
       "</style>\n",
       "<table border=\"1\" class=\"dataframe\">\n",
       "  <thead>\n",
       "    <tr style=\"text-align: right;\">\n",
       "      <th></th>\n",
       "      <th>Sex</th>\n",
       "      <th>Length</th>\n",
       "      <th>Diameter</th>\n",
       "      <th>Height</th>\n",
       "      <th>Whole weight</th>\n",
       "      <th>Shucked weight</th>\n",
       "      <th>Viscera weight</th>\n",
       "      <th>Shell weight</th>\n",
       "      <th>Rings</th>\n",
       "    </tr>\n",
       "  </thead>\n",
       "  <tbody>\n",
       "    <tr>\n",
       "      <th>4172</th>\n",
       "      <td>F</td>\n",
       "      <td>0.565</td>\n",
       "      <td>0.450</td>\n",
       "      <td>0.165</td>\n",
       "      <td>0.8870</td>\n",
       "      <td>0.3700</td>\n",
       "      <td>0.2390</td>\n",
       "      <td>0.2490</td>\n",
       "      <td>11</td>\n",
       "    </tr>\n",
       "    <tr>\n",
       "      <th>4173</th>\n",
       "      <td>M</td>\n",
       "      <td>0.590</td>\n",
       "      <td>0.440</td>\n",
       "      <td>0.135</td>\n",
       "      <td>0.9660</td>\n",
       "      <td>0.4390</td>\n",
       "      <td>0.2145</td>\n",
       "      <td>0.2605</td>\n",
       "      <td>10</td>\n",
       "    </tr>\n",
       "    <tr>\n",
       "      <th>4174</th>\n",
       "      <td>M</td>\n",
       "      <td>0.600</td>\n",
       "      <td>0.475</td>\n",
       "      <td>0.205</td>\n",
       "      <td>1.1760</td>\n",
       "      <td>0.5255</td>\n",
       "      <td>0.2875</td>\n",
       "      <td>0.3080</td>\n",
       "      <td>9</td>\n",
       "    </tr>\n",
       "    <tr>\n",
       "      <th>4175</th>\n",
       "      <td>F</td>\n",
       "      <td>0.625</td>\n",
       "      <td>0.485</td>\n",
       "      <td>0.150</td>\n",
       "      <td>1.0945</td>\n",
       "      <td>0.5310</td>\n",
       "      <td>0.2610</td>\n",
       "      <td>0.2960</td>\n",
       "      <td>10</td>\n",
       "    </tr>\n",
       "    <tr>\n",
       "      <th>4176</th>\n",
       "      <td>M</td>\n",
       "      <td>0.710</td>\n",
       "      <td>0.555</td>\n",
       "      <td>0.195</td>\n",
       "      <td>1.9485</td>\n",
       "      <td>0.9455</td>\n",
       "      <td>0.3765</td>\n",
       "      <td>0.4950</td>\n",
       "      <td>12</td>\n",
       "    </tr>\n",
       "  </tbody>\n",
       "</table>\n",
       "</div>"
      ],
      "text/plain": [
       "     Sex  Length  Diameter  Height  Whole weight  Shucked weight  \\\n",
       "4172   F   0.565     0.450   0.165        0.8870          0.3700   \n",
       "4173   M   0.590     0.440   0.135        0.9660          0.4390   \n",
       "4174   M   0.600     0.475   0.205        1.1760          0.5255   \n",
       "4175   F   0.625     0.485   0.150        1.0945          0.5310   \n",
       "4176   M   0.710     0.555   0.195        1.9485          0.9455   \n",
       "\n",
       "      Viscera weight  Shell weight  Rings  \n",
       "4172          0.2390        0.2490     11  \n",
       "4173          0.2145        0.2605     10  \n",
       "4174          0.2875        0.3080      9  \n",
       "4175          0.2610        0.2960     10  \n",
       "4176          0.3765        0.4950     12  "
      ]
     },
     "execution_count": 66,
     "metadata": {},
     "output_type": "execute_result"
    }
   ],
   "source": [
    "dataframe.tail()"
   ]
  },
  {
   "cell_type": "code",
   "execution_count": 69,
   "id": "427dcbca",
   "metadata": {},
   "outputs": [
    {
     "data": {
      "text/html": [
       "<div>\n",
       "<style scoped>\n",
       "    .dataframe tbody tr th:only-of-type {\n",
       "        vertical-align: middle;\n",
       "    }\n",
       "\n",
       "    .dataframe tbody tr th {\n",
       "        vertical-align: top;\n",
       "    }\n",
       "\n",
       "    .dataframe thead th {\n",
       "        text-align: right;\n",
       "    }\n",
       "</style>\n",
       "<table border=\"1\" class=\"dataframe\">\n",
       "  <thead>\n",
       "    <tr style=\"text-align: right;\">\n",
       "      <th></th>\n",
       "      <th>Length</th>\n",
       "      <th>Diameter</th>\n",
       "      <th>Height</th>\n",
       "      <th>Whole weight</th>\n",
       "      <th>Shucked weight</th>\n",
       "      <th>Viscera weight</th>\n",
       "      <th>Shell weight</th>\n",
       "      <th>Rings</th>\n",
       "    </tr>\n",
       "  </thead>\n",
       "  <tbody>\n",
       "    <tr>\n",
       "      <th>count</th>\n",
       "      <td>4177.000000</td>\n",
       "      <td>4177.000000</td>\n",
       "      <td>4177.000000</td>\n",
       "      <td>4177.000000</td>\n",
       "      <td>4177.000000</td>\n",
       "      <td>4177.000000</td>\n",
       "      <td>4177.000000</td>\n",
       "      <td>4177.000000</td>\n",
       "    </tr>\n",
       "    <tr>\n",
       "      <th>mean</th>\n",
       "      <td>0.523992</td>\n",
       "      <td>0.407881</td>\n",
       "      <td>0.139516</td>\n",
       "      <td>0.828742</td>\n",
       "      <td>0.359367</td>\n",
       "      <td>0.180594</td>\n",
       "      <td>0.238831</td>\n",
       "      <td>9.933684</td>\n",
       "    </tr>\n",
       "    <tr>\n",
       "      <th>std</th>\n",
       "      <td>0.120093</td>\n",
       "      <td>0.099240</td>\n",
       "      <td>0.041827</td>\n",
       "      <td>0.490389</td>\n",
       "      <td>0.221963</td>\n",
       "      <td>0.109614</td>\n",
       "      <td>0.139203</td>\n",
       "      <td>3.224169</td>\n",
       "    </tr>\n",
       "    <tr>\n",
       "      <th>min</th>\n",
       "      <td>0.075000</td>\n",
       "      <td>0.055000</td>\n",
       "      <td>0.000000</td>\n",
       "      <td>0.002000</td>\n",
       "      <td>0.001000</td>\n",
       "      <td>0.000500</td>\n",
       "      <td>0.001500</td>\n",
       "      <td>1.000000</td>\n",
       "    </tr>\n",
       "    <tr>\n",
       "      <th>25%</th>\n",
       "      <td>0.450000</td>\n",
       "      <td>0.350000</td>\n",
       "      <td>0.115000</td>\n",
       "      <td>0.441500</td>\n",
       "      <td>0.186000</td>\n",
       "      <td>0.093500</td>\n",
       "      <td>0.130000</td>\n",
       "      <td>8.000000</td>\n",
       "    </tr>\n",
       "    <tr>\n",
       "      <th>50%</th>\n",
       "      <td>0.545000</td>\n",
       "      <td>0.425000</td>\n",
       "      <td>0.140000</td>\n",
       "      <td>0.799500</td>\n",
       "      <td>0.336000</td>\n",
       "      <td>0.171000</td>\n",
       "      <td>0.234000</td>\n",
       "      <td>9.000000</td>\n",
       "    </tr>\n",
       "    <tr>\n",
       "      <th>75%</th>\n",
       "      <td>0.615000</td>\n",
       "      <td>0.480000</td>\n",
       "      <td>0.165000</td>\n",
       "      <td>1.153000</td>\n",
       "      <td>0.502000</td>\n",
       "      <td>0.253000</td>\n",
       "      <td>0.329000</td>\n",
       "      <td>11.000000</td>\n",
       "    </tr>\n",
       "    <tr>\n",
       "      <th>max</th>\n",
       "      <td>0.815000</td>\n",
       "      <td>0.650000</td>\n",
       "      <td>1.130000</td>\n",
       "      <td>2.825500</td>\n",
       "      <td>1.488000</td>\n",
       "      <td>0.760000</td>\n",
       "      <td>1.005000</td>\n",
       "      <td>29.000000</td>\n",
       "    </tr>\n",
       "  </tbody>\n",
       "</table>\n",
       "</div>"
      ],
      "text/plain": [
       "            Length     Diameter       Height  Whole weight  Shucked weight  \\\n",
       "count  4177.000000  4177.000000  4177.000000   4177.000000     4177.000000   \n",
       "mean      0.523992     0.407881     0.139516      0.828742        0.359367   \n",
       "std       0.120093     0.099240     0.041827      0.490389        0.221963   \n",
       "min       0.075000     0.055000     0.000000      0.002000        0.001000   \n",
       "25%       0.450000     0.350000     0.115000      0.441500        0.186000   \n",
       "50%       0.545000     0.425000     0.140000      0.799500        0.336000   \n",
       "75%       0.615000     0.480000     0.165000      1.153000        0.502000   \n",
       "max       0.815000     0.650000     1.130000      2.825500        1.488000   \n",
       "\n",
       "       Viscera weight  Shell weight        Rings  \n",
       "count     4177.000000   4177.000000  4177.000000  \n",
       "mean         0.180594      0.238831     9.933684  \n",
       "std          0.109614      0.139203     3.224169  \n",
       "min          0.000500      0.001500     1.000000  \n",
       "25%          0.093500      0.130000     8.000000  \n",
       "50%          0.171000      0.234000     9.000000  \n",
       "75%          0.253000      0.329000    11.000000  \n",
       "max          0.760000      1.005000    29.000000  "
      ]
     },
     "execution_count": 69,
     "metadata": {},
     "output_type": "execute_result"
    }
   ],
   "source": [
    "dataframe.describe()"
   ]
  },
  {
   "cell_type": "code",
   "execution_count": 70,
   "id": "8d089664",
   "metadata": {},
   "outputs": [
    {
     "data": {
      "text/html": [
       "<div>\n",
       "<style scoped>\n",
       "    .dataframe tbody tr th:only-of-type {\n",
       "        vertical-align: middle;\n",
       "    }\n",
       "\n",
       "    .dataframe tbody tr th {\n",
       "        vertical-align: top;\n",
       "    }\n",
       "\n",
       "    .dataframe thead th {\n",
       "        text-align: right;\n",
       "    }\n",
       "</style>\n",
       "<table border=\"1\" class=\"dataframe\">\n",
       "  <thead>\n",
       "    <tr style=\"text-align: right;\">\n",
       "      <th></th>\n",
       "      <th>0</th>\n",
       "      <th>1</th>\n",
       "    </tr>\n",
       "  </thead>\n",
       "  <tbody>\n",
       "    <tr>\n",
       "      <th>Sex</th>\n",
       "      <td>M</td>\n",
       "      <td>NaN</td>\n",
       "    </tr>\n",
       "    <tr>\n",
       "      <th>Length</th>\n",
       "      <td>0.55</td>\n",
       "      <td>0.625</td>\n",
       "    </tr>\n",
       "    <tr>\n",
       "      <th>Diameter</th>\n",
       "      <td>0.45</td>\n",
       "      <td>NaN</td>\n",
       "    </tr>\n",
       "    <tr>\n",
       "      <th>Height</th>\n",
       "      <td>0.15</td>\n",
       "      <td>NaN</td>\n",
       "    </tr>\n",
       "    <tr>\n",
       "      <th>Whole weight</th>\n",
       "      <td>0.2225</td>\n",
       "      <td>NaN</td>\n",
       "    </tr>\n",
       "    <tr>\n",
       "      <th>Shucked weight</th>\n",
       "      <td>0.175</td>\n",
       "      <td>NaN</td>\n",
       "    </tr>\n",
       "    <tr>\n",
       "      <th>Viscera weight</th>\n",
       "      <td>0.1715</td>\n",
       "      <td>NaN</td>\n",
       "    </tr>\n",
       "    <tr>\n",
       "      <th>Shell weight</th>\n",
       "      <td>0.275</td>\n",
       "      <td>NaN</td>\n",
       "    </tr>\n",
       "    <tr>\n",
       "      <th>Rings</th>\n",
       "      <td>9.0</td>\n",
       "      <td>NaN</td>\n",
       "    </tr>\n",
       "  </tbody>\n",
       "</table>\n",
       "</div>"
      ],
      "text/plain": [
       "                     0      1\n",
       "Sex                  M    NaN\n",
       "Length            0.55  0.625\n",
       "Diameter          0.45    NaN\n",
       "Height            0.15    NaN\n",
       "Whole weight    0.2225    NaN\n",
       "Shucked weight   0.175    NaN\n",
       "Viscera weight  0.1715    NaN\n",
       "Shell weight     0.275    NaN\n",
       "Rings              9.0    NaN"
      ]
     },
     "execution_count": 70,
     "metadata": {},
     "output_type": "execute_result"
    }
   ],
   "source": [
    "dataframe.mode().T"
   ]
  },
  {
   "cell_type": "code",
   "execution_count": 71,
   "id": "0eb16fef",
   "metadata": {},
   "outputs": [
    {
     "data": {
      "text/plain": [
       "(4177, 9)"
      ]
     },
     "execution_count": 71,
     "metadata": {},
     "output_type": "execute_result"
    }
   ],
   "source": [
    "dataframe.shape"
   ]
  },
  {
   "cell_type": "code",
   "execution_count": 73,
   "id": "9e5daa6d",
   "metadata": {},
   "outputs": [
    {
     "data": {
      "text/plain": [
       "Length             0.064621\n",
       "Diameter          -0.045476\n",
       "Height            76.025509\n",
       "Whole weight      -0.023644\n",
       "Shucked weight     0.595124\n",
       "Viscera weight     0.084012\n",
       "Shell weight       0.531926\n",
       "Rings              2.330687\n",
       "dtype: float64"
      ]
     },
     "execution_count": 73,
     "metadata": {},
     "output_type": "execute_result"
    }
   ],
   "source": [
    "dataframe.kurt()"
   ]
  },
  {
   "cell_type": "code",
   "execution_count": 74,
   "id": "bc05144b",
   "metadata": {},
   "outputs": [
    {
     "data": {
      "text/plain": [
       "Length           -0.639873\n",
       "Diameter         -0.609198\n",
       "Height            3.128817\n",
       "Whole weight      0.530959\n",
       "Shucked weight    0.719098\n",
       "Viscera weight    0.591852\n",
       "Shell weight      0.620927\n",
       "Rings             1.114102\n",
       "dtype: float64"
      ]
     },
     "execution_count": 74,
     "metadata": {},
     "output_type": "execute_result"
    }
   ],
   "source": [
    "dataframe.skew()"
   ]
  },
  {
   "cell_type": "code",
   "execution_count": 75,
   "id": "28ec5cf5",
   "metadata": {},
   "outputs": [
    {
     "data": {
      "text/plain": [
       "Length             0.014422\n",
       "Diameter           0.009849\n",
       "Height             0.001750\n",
       "Whole weight       0.240481\n",
       "Shucked weight     0.049268\n",
       "Viscera weight     0.012015\n",
       "Shell weight       0.019377\n",
       "Rings             10.395266\n",
       "dtype: float64"
      ]
     },
     "execution_count": 75,
     "metadata": {},
     "output_type": "execute_result"
    }
   ],
   "source": [
    "dataframe.var()"
   ]
  },
  {
   "cell_type": "code",
   "execution_count": 76,
   "id": "417ec3c9",
   "metadata": {},
   "outputs": [
    {
     "data": {
      "text/plain": [
       "Sex                  3\n",
       "Length             134\n",
       "Diameter           111\n",
       "Height              51\n",
       "Whole weight      2429\n",
       "Shucked weight    1515\n",
       "Viscera weight     880\n",
       "Shell weight       926\n",
       "Rings               28\n",
       "dtype: int64"
      ]
     },
     "execution_count": 76,
     "metadata": {},
     "output_type": "execute_result"
    }
   ],
   "source": [
    "dataframe.nunique()"
   ]
  },
  {
   "cell_type": "code",
   "execution_count": 77,
   "id": "00b71255",
   "metadata": {},
   "outputs": [
    {
     "data": {
      "text/html": [
       "<div>\n",
       "<style scoped>\n",
       "    .dataframe tbody tr th:only-of-type {\n",
       "        vertical-align: middle;\n",
       "    }\n",
       "\n",
       "    .dataframe tbody tr th {\n",
       "        vertical-align: top;\n",
       "    }\n",
       "\n",
       "    .dataframe thead th {\n",
       "        text-align: right;\n",
       "    }\n",
       "</style>\n",
       "<table border=\"1\" class=\"dataframe\">\n",
       "  <thead>\n",
       "    <tr style=\"text-align: right;\">\n",
       "      <th></th>\n",
       "      <th>Sex</th>\n",
       "      <th>Length</th>\n",
       "      <th>Diameter</th>\n",
       "      <th>Height</th>\n",
       "      <th>Whole weight</th>\n",
       "      <th>Shucked weight</th>\n",
       "      <th>Viscera weight</th>\n",
       "      <th>Shell weight</th>\n",
       "      <th>Rings</th>\n",
       "    </tr>\n",
       "  </thead>\n",
       "  <tbody>\n",
       "    <tr>\n",
       "      <th>0</th>\n",
       "      <td>False</td>\n",
       "      <td>False</td>\n",
       "      <td>False</td>\n",
       "      <td>False</td>\n",
       "      <td>False</td>\n",
       "      <td>False</td>\n",
       "      <td>False</td>\n",
       "      <td>False</td>\n",
       "      <td>False</td>\n",
       "    </tr>\n",
       "    <tr>\n",
       "      <th>1</th>\n",
       "      <td>False</td>\n",
       "      <td>False</td>\n",
       "      <td>False</td>\n",
       "      <td>False</td>\n",
       "      <td>False</td>\n",
       "      <td>False</td>\n",
       "      <td>False</td>\n",
       "      <td>False</td>\n",
       "      <td>False</td>\n",
       "    </tr>\n",
       "    <tr>\n",
       "      <th>2</th>\n",
       "      <td>False</td>\n",
       "      <td>False</td>\n",
       "      <td>False</td>\n",
       "      <td>False</td>\n",
       "      <td>False</td>\n",
       "      <td>False</td>\n",
       "      <td>False</td>\n",
       "      <td>False</td>\n",
       "      <td>False</td>\n",
       "    </tr>\n",
       "    <tr>\n",
       "      <th>3</th>\n",
       "      <td>False</td>\n",
       "      <td>False</td>\n",
       "      <td>False</td>\n",
       "      <td>False</td>\n",
       "      <td>False</td>\n",
       "      <td>False</td>\n",
       "      <td>False</td>\n",
       "      <td>False</td>\n",
       "      <td>False</td>\n",
       "    </tr>\n",
       "    <tr>\n",
       "      <th>4</th>\n",
       "      <td>False</td>\n",
       "      <td>False</td>\n",
       "      <td>False</td>\n",
       "      <td>False</td>\n",
       "      <td>False</td>\n",
       "      <td>False</td>\n",
       "      <td>False</td>\n",
       "      <td>False</td>\n",
       "      <td>False</td>\n",
       "    </tr>\n",
       "    <tr>\n",
       "      <th>...</th>\n",
       "      <td>...</td>\n",
       "      <td>...</td>\n",
       "      <td>...</td>\n",
       "      <td>...</td>\n",
       "      <td>...</td>\n",
       "      <td>...</td>\n",
       "      <td>...</td>\n",
       "      <td>...</td>\n",
       "      <td>...</td>\n",
       "    </tr>\n",
       "    <tr>\n",
       "      <th>4172</th>\n",
       "      <td>False</td>\n",
       "      <td>False</td>\n",
       "      <td>False</td>\n",
       "      <td>False</td>\n",
       "      <td>False</td>\n",
       "      <td>False</td>\n",
       "      <td>False</td>\n",
       "      <td>False</td>\n",
       "      <td>False</td>\n",
       "    </tr>\n",
       "    <tr>\n",
       "      <th>4173</th>\n",
       "      <td>False</td>\n",
       "      <td>False</td>\n",
       "      <td>False</td>\n",
       "      <td>False</td>\n",
       "      <td>False</td>\n",
       "      <td>False</td>\n",
       "      <td>False</td>\n",
       "      <td>False</td>\n",
       "      <td>False</td>\n",
       "    </tr>\n",
       "    <tr>\n",
       "      <th>4174</th>\n",
       "      <td>False</td>\n",
       "      <td>False</td>\n",
       "      <td>False</td>\n",
       "      <td>False</td>\n",
       "      <td>False</td>\n",
       "      <td>False</td>\n",
       "      <td>False</td>\n",
       "      <td>False</td>\n",
       "      <td>False</td>\n",
       "    </tr>\n",
       "    <tr>\n",
       "      <th>4175</th>\n",
       "      <td>False</td>\n",
       "      <td>False</td>\n",
       "      <td>False</td>\n",
       "      <td>False</td>\n",
       "      <td>False</td>\n",
       "      <td>False</td>\n",
       "      <td>False</td>\n",
       "      <td>False</td>\n",
       "      <td>False</td>\n",
       "    </tr>\n",
       "    <tr>\n",
       "      <th>4176</th>\n",
       "      <td>False</td>\n",
       "      <td>False</td>\n",
       "      <td>False</td>\n",
       "      <td>False</td>\n",
       "      <td>False</td>\n",
       "      <td>False</td>\n",
       "      <td>False</td>\n",
       "      <td>False</td>\n",
       "      <td>False</td>\n",
       "    </tr>\n",
       "  </tbody>\n",
       "</table>\n",
       "<p>4177 rows × 9 columns</p>\n",
       "</div>"
      ],
      "text/plain": [
       "        Sex  Length  Diameter  Height  Whole weight  Shucked weight  \\\n",
       "0     False   False     False   False         False           False   \n",
       "1     False   False     False   False         False           False   \n",
       "2     False   False     False   False         False           False   \n",
       "3     False   False     False   False         False           False   \n",
       "4     False   False     False   False         False           False   \n",
       "...     ...     ...       ...     ...           ...             ...   \n",
       "4172  False   False     False   False         False           False   \n",
       "4173  False   False     False   False         False           False   \n",
       "4174  False   False     False   False         False           False   \n",
       "4175  False   False     False   False         False           False   \n",
       "4176  False   False     False   False         False           False   \n",
       "\n",
       "      Viscera weight  Shell weight  Rings  \n",
       "0              False         False  False  \n",
       "1              False         False  False  \n",
       "2              False         False  False  \n",
       "3              False         False  False  \n",
       "4              False         False  False  \n",
       "...              ...           ...    ...  \n",
       "4172           False         False  False  \n",
       "4173           False         False  False  \n",
       "4174           False         False  False  \n",
       "4175           False         False  False  \n",
       "4176           False         False  False  \n",
       "\n",
       "[4177 rows x 9 columns]"
      ]
     },
     "execution_count": 77,
     "metadata": {},
     "output_type": "execute_result"
    }
   ],
   "source": [
    "dataframe.isna()"
   ]
  },
  {
   "cell_type": "code",
   "execution_count": 78,
   "id": "6a730d2e",
   "metadata": {},
   "outputs": [
    {
     "data": {
      "text/plain": [
       "Sex               False\n",
       "Length            False\n",
       "Diameter          False\n",
       "Height            False\n",
       "Whole weight      False\n",
       "Shucked weight    False\n",
       "Viscera weight    False\n",
       "Shell weight      False\n",
       "Rings             False\n",
       "dtype: bool"
      ]
     },
     "execution_count": 78,
     "metadata": {},
     "output_type": "execute_result"
    }
   ],
   "source": [
    "dataframe.isna().any()"
   ]
  },
  {
   "cell_type": "code",
   "execution_count": 79,
   "id": "9fb950e0",
   "metadata": {},
   "outputs": [
    {
     "data": {
      "text/plain": [
       "Sex               0\n",
       "Length            0\n",
       "Diameter          0\n",
       "Height            0\n",
       "Whole weight      0\n",
       "Shucked weight    0\n",
       "Viscera weight    0\n",
       "Shell weight      0\n",
       "Rings             0\n",
       "dtype: int64"
      ]
     },
     "execution_count": 79,
     "metadata": {},
     "output_type": "execute_result"
    }
   ],
   "source": [
    "dataframe.isna().sum()"
   ]
  },
  {
   "cell_type": "code",
   "execution_count": 80,
   "id": "f40e4f1b",
   "metadata": {},
   "outputs": [
    {
     "data": {
      "text/plain": [
       "<AxesSubplot: >"
      ]
     },
     "execution_count": 80,
     "metadata": {},
     "output_type": "execute_result"
    },
    {
     "data": {
      "image/png": "[encoded data removed]",
      "text/plain": [
       "<Figure size 432x288 with 1 Axes>"
      ]
     },
     "metadata": {
      "needs_background": "light"
     },
     "output_type": "display_data"
    }
   ],
   "source": [
    "sns.boxplot(dataframe['Diameter'])"
   ]
  },
  {
   "cell_type": "code",
   "execution_count": 81,
   "id": "c0b59061",
   "metadata": {},
   "outputs": [
    {
     "data": {
      "text/html": [
       "<div>\n",
       "<style scoped>\n",
       "    .dataframe tbody tr th:only-of-type {\n",
       "        vertical-align: middle;\n",
       "    }\n",
       "\n",
       "    .dataframe tbody tr th {\n",
       "        vertical-align: top;\n",
       "    }\n",
       "\n",
       "    .dataframe thead th {\n",
       "        text-align: right;\n",
       "    }\n",
       "</style>\n",
       "<table border=\"1\" class=\"dataframe\">\n",
       "  <thead>\n",
       "    <tr style=\"text-align: right;\">\n",
       "      <th></th>\n",
       "      <th>Length</th>\n",
       "      <th>Diameter</th>\n",
       "      <th>Height</th>\n",
       "      <th>Whole weight</th>\n",
       "      <th>Shucked weight</th>\n",
       "      <th>Viscera weight</th>\n",
       "      <th>Shell weight</th>\n",
       "      <th>Rings</th>\n",
       "    </tr>\n",
       "  </thead>\n",
       "  <tbody>\n",
       "    <tr>\n",
       "      <th>0.25</th>\n",
       "      <td>0.450</td>\n",
       "      <td>0.35</td>\n",
       "      <td>0.115</td>\n",
       "      <td>0.4415</td>\n",
       "      <td>0.186</td>\n",
       "      <td>0.0935</td>\n",
       "      <td>0.130</td>\n",
       "      <td>8.0</td>\n",
       "    </tr>\n",
       "    <tr>\n",
       "      <th>0.75</th>\n",
       "      <td>0.615</td>\n",
       "      <td>0.48</td>\n",
       "      <td>0.165</td>\n",
       "      <td>1.1530</td>\n",
       "      <td>0.502</td>\n",
       "      <td>0.2530</td>\n",
       "      <td>0.329</td>\n",
       "      <td>11.0</td>\n",
       "    </tr>\n",
       "  </tbody>\n",
       "</table>\n",
       "</div>"
      ],
      "text/plain": [
       "      Length  Diameter  Height  Whole weight  Shucked weight  Viscera weight  \\\n",
       "0.25   0.450      0.35   0.115        0.4415           0.186          0.0935   \n",
       "0.75   0.615      0.48   0.165        1.1530           0.502          0.2530   \n",
       "\n",
       "      Shell weight  Rings  \n",
       "0.25         0.130    8.0  \n",
       "0.75         0.329   11.0  "
      ]
     },
     "execution_count": 81,
     "metadata": {},
     "output_type": "execute_result"
    }
   ],
   "source": [
    "quant=dataframe.quantile(q=[0.25,0.75])\n",
    "quant"
   ]
  },
  {
   "cell_type": "code",
   "execution_count": 82,
   "id": "01d3a89f",
   "metadata": {},
   "outputs": [
    {
     "data": {
      "text/plain": [
       "Length            0.1650\n",
       "Diameter          0.1300\n",
       "Height            0.0500\n",
       "Whole weight      0.7115\n",
       "Shucked weight    0.3160\n",
       "Viscera weight    0.1595\n",
       "Shell weight      0.1990\n",
       "Rings             3.0000\n",
       "dtype: float64"
      ]
     },
     "execution_count": 82,
     "metadata": {},
     "output_type": "execute_result"
    }
   ],
   "source": [
    "iqr=quant.loc[0.75]-quant.loc[0.25]\n",
    "iqr"
   ]
  },
  {
   "cell_type": "code",
   "execution_count": 84,
   "id": "0dcf109d",
   "metadata": {},
   "outputs": [
    {
     "data": {
      "text/plain": [
       "Length            0.20250\n",
       "Diameter          0.15500\n",
       "Height            0.04000\n",
       "Whole weight     -0.62575\n",
       "Shucked weight   -0.28800\n",
       "Viscera weight   -0.14575\n",
       "Shell weight     -0.16850\n",
       "Rings             3.50000\n",
       "dtype: float64"
      ]
     },
     "execution_count": 84,
     "metadata": {},
     "output_type": "execute_result"
    }
   ],
   "source": [
    "low=quant.loc[0.25]-(1.5*iqr)\n",
    "low"
   ]
  },
  {
   "cell_type": "code",
   "execution_count": 85,
   "id": "236becba",
   "metadata": {},
   "outputs": [
    {
     "data": {
      "text/plain": [
       "Length             0.86250\n",
       "Diameter           0.67500\n",
       "Height             0.24000\n",
       "Whole weight       2.22025\n",
       "Shucked weight     0.97600\n",
       "Viscera weight     0.49225\n",
       "Shell weight       0.62750\n",
       "Rings             15.50000\n",
       "dtype: float64"
      ]
     },
     "execution_count": 85,
     "metadata": {},
     "output_type": "execute_result"
    }
   ],
   "source": [
    "up=quant.loc[0.75]+(1.5*iqr)\n",
    "up"
   ]
  },
  {
   "cell_type": "code",
   "execution_count": 88,
   "id": "ac33d5b0",
   "metadata": {},
   "outputs": [
    {
     "data": {
      "text/plain": [
       "<AxesSubplot: >"
      ]
     },
     "execution_count": 88,
     "metadata": {},
     "output_type": "execute_result"
    },
    {
     "data": {
      "image/png": "[encoded data removed]",
      "text/plain": [
       "<Figure size 432x288 with 1 Axes>"
      ]
     },
     "metadata": {
      "needs_background": "light"
     },
     "output_type": "display_data"
    }
   ],
   "source": [
    "dataframe['Diameter']=np.where(dataframe['Diameter']<0.155,0.4078,dataframe['Diameter'])\n",
    "sns.boxplot(dataframe['Diameter'])"
   ]
  },
  {
   "cell_type": "code",
   "execution_count": 86,
   "id": "e35e86cc",
   "metadata": {},
   "outputs": [
    {
     "data": {
      "text/plain": [
       "<AxesSubplot: >"
      ]
     },
     "execution_count": 86,
     "metadata": {},
     "output_type": "execute_result"
    },
    {
     "data": {
      "image/png": "[encoded data removed]",
      "text/plain": [
       "<Figure size 432x288 with 1 Axes>"
      ]
     },
     "metadata": {
      "needs_background": "light"
     },
     "output_type": "display_data"
    }
   ],
   "source": [
    "sns.boxplot(dataframe['Length'])"
   ]
  },
  {
   "cell_type": "code",
   "execution_count": 90,
   "id": "cbfab800",
   "metadata": {},
   "outputs": [
    {
     "data": {
      "text/plain": [
       "<AxesSubplot: >"
      ]
     },
     "execution_count": 90,
     "metadata": {},
     "output_type": "execute_result"
    },
    {
     "data": {
      "image/png": "[encoded data removed]",
      "text/plain": [
       "<Figure size 432x288 with 1 Axes>"
      ]
     },
     "metadata": {
      "needs_background": "light"
     },
     "output_type": "display_data"
    }
   ],
   "source": [
    "dataframe['Length']=np.where(dataframe['Length']<0.23,0.52, dataframe['Length'])\n",
    "sns.boxplot(dataframe['Length'])"
   ]
  },
  {
   "cell_type": "code",
   "execution_count": 91,
   "id": "a8c8cab4",
   "metadata": {},
   "outputs": [
    {
     "data": {
      "text/plain": [
       "<AxesSubplot: >"
      ]
     },
     "execution_count": 91,
     "metadata": {},
     "output_type": "execute_result"
    },
    {
     "data": {
      "image/png": "[encoded data removed]",
      "text/plain": [
       "<Figure size 432x288 with 1 Axes>"
      ]
     },
     "metadata": {
      "needs_background": "light"
     },
     "output_type": "display_data"
    }
   ],
   "source": [
    "sns.boxplot(dataframe['Height'])"
   ]
  },
  {
   "cell_type": "code",
   "execution_count": 89,
   "id": "5c64f33e",
   "metadata": {},
   "outputs": [
    {
     "data": {
      "text/plain": [
       "<AxesSubplot: >"
      ]
     },
     "execution_count": 89,
     "metadata": {},
     "output_type": "execute_result"
    },
    {
     "data": {
      "image/png": "[encoded data removed]",
      "text/plain": [
       "<Figure size 432x288 with 1 Axes>"
      ]
     },
     "metadata": {
      "needs_background": "light"
     },
     "output_type": "display_data"
    }
   ],
   "source": [
    "dataframe['Height']=np.where(dataframe['Height']<0.04,0.139, dataframe['Height'])\n",
    "dataframe['Height']=np.where(dataframe['Height']>0.23,0.139, dataframe['Height'])\n",
    "sns.boxplot(dataframe['Height'])"
   ]
  },
  {
   "cell_type": "code",
   "execution_count": 92,
   "id": "1d6be1fe",
   "metadata": {},
   "outputs": [
    {
     "data": {
      "text/plain": [
       "<AxesSubplot: >"
      ]
     },
     "execution_count": 92,
     "metadata": {},
     "output_type": "execute_result"
    },
    {
     "data": {
      "image/png": "[encoded data removed]",
      "text/plain": [
       "<Figure size 432x288 with 1 Axes>"
      ]
     },
     "metadata": {
      "needs_background": "light"
     },
     "output_type": "display_data"
    }
   ],
   "source": [
    "sns.boxplot(dataframe['Whole weight'])"
   ]
  },
  {
   "cell_type": "code",
   "execution_count": 93,
   "id": "50f3b767",
   "metadata": {},
   "outputs": [
    {
     "data": {
      "text/plain": [
       "<AxesSubplot: >"
      ]
     },
     "execution_count": 93,
     "metadata": {},
     "output_type": "execute_result"
    },
    {
     "data": {
      "image/png": "[encoded data removed]",
      "text/plain": [
       "<Figure size 432x288 with 1 Axes>"
      ]
     },
     "metadata": {
      "needs_background": "light"
     },
     "output_type": "display_data"
    }
   ],
   "source": [
    "dataframe['Whole weight']=np.where(dataframe['Whole weight']>0.9,0.82, dataframe['Whole weight'])\n",
    "sns.boxplot(dataframe['Whole weight'])"
   ]
  },
  {
   "cell_type": "code",
   "execution_count": 94,
   "id": "f6457d3f",
   "metadata": {},
   "outputs": [
    {
     "data": {
      "text/plain": [
       "<AxesSubplot: >"
      ]
     },
     "execution_count": 94,
     "metadata": {},
     "output_type": "execute_result"
    },
    {
     "data": {
      "image/png": "[encoded data removed]",
      "text/plain": [
       "<Figure size 432x288 with 1 Axes>"
      ]
     },
     "metadata": {
      "needs_background": "light"
     },
     "output_type": "display_data"
    }
   ],
   "source": [
    "sns.boxplot(dataframe['Shucked weight'])"
   ]
  },
  {
   "cell_type": "code",
   "execution_count": 95,
   "id": "31695520",
   "metadata": {},
   "outputs": [
    {
     "data": {
      "text/plain": [
       "<AxesSubplot: >"
      ]
     },
     "execution_count": 95,
     "metadata": {},
     "output_type": "execute_result"
    },
    {
     "data": {
      "image/png": "[encoded data removed]",
      "text/plain": [
       "<Figure size 432x288 with 1 Axes>"
      ]
     },
     "metadata": {
      "needs_background": "light"
     },
     "output_type": "display_data"
    }
   ],
   "source": [
    "dataframe['Shucked weight']=np.where(dataframe['Shucked weight']>0.93,0.35, dataframe['Shucked weight'])\n",
    "sns.boxplot(dataframe['Shucked weight'])"
   ]
  },
  {
   "cell_type": "code",
   "execution_count": 96,
   "id": "e9ce9b8f",
   "metadata": {},
   "outputs": [
    {
     "data": {
      "text/plain": [
       "<AxesSubplot: >"
      ]
     },
     "execution_count": 96,
     "metadata": {},
     "output_type": "execute_result"
    },
    {
     "data": {
      "image/png": "[encoded data removed]",
      "text/plain": [
       "<Figure size 432x288 with 1 Axes>"
      ]
     },
     "metadata": {
      "needs_background": "light"
     },
     "output_type": "display_data"
    }
   ],
   "source": [
    "sns.boxplot(dataframe['Viscera weight'])"
   ]
  },
  {
   "cell_type": "code",
   "execution_count": 97,
   "id": "dbb8cd41",
   "metadata": {},
   "outputs": [
    {
     "data": {
      "text/plain": [
       "<AxesSubplot: >"
      ]
     },
     "execution_count": 97,
     "metadata": {},
     "output_type": "execute_result"
    },
    {
     "data": {
      "image/png": "[encoded data removed]",
      "text/plain": [
       "<Figure size 432x288 with 1 Axes>"
      ]
     },
     "metadata": {
      "needs_background": "light"
     },
     "output_type": "display_data"
    }
   ],
   "source": [
    "dataframe['Viscera weight']=np.where(dataframe['Viscera weight']>0.46,0.18, dataframe['Viscera weight'])\n",
    "sns.boxplot(dataframe['Viscera weight'])"
   ]
  },
  {
   "cell_type": "code",
   "execution_count": 99,
   "id": "2f06f116",
   "metadata": {},
   "outputs": [
    {
     "data": {
      "text/plain": [
       "<AxesSubplot: >"
      ]
     },
     "execution_count": 99,
     "metadata": {},
     "output_type": "execute_result"
    },
    {
     "data": {
      "image/png": "[encoded data removed]",
      "text/plain": [
       "<Figure size 432x288 with 1 Axes>"
      ]
     },
     "metadata": {
      "needs_background": "light"
     },
     "output_type": "display_data"
    }
   ],
   "source": [
    "sns.boxplot(dataframe['Shell weight'])"
   ]
  },
  {
   "cell_type": "code",
   "execution_count": 104,
   "id": "1864804d",
   "metadata": {},
   "outputs": [
    {
     "data": {
      "text/plain": [
       "<AxesSubplot: >"
      ]
     },
     "execution_count": 104,
     "metadata": {},
     "output_type": "execute_result"
    },
    {
     "data": {
      "image/png": "[encoded data removed]",
      "text/plain": [
       "<Figure size 432x288 with 1 Axes>"
      ]
     },
     "metadata": {
      "needs_background": "light"
     },
     "output_type": "display_data"
    }
   ],
   "source": [
    "dataframe['Shell weight']=np.where(dataframe['Shell weight']>0.61,0.2388, dataframe['Shell weight'])\n",
    "sns.boxplot(dataframe['Shell weight'])"
   ]
  },
  {
   "cell_type": "code",
   "execution_count": 105,
   "id": "4c7c3255",
   "metadata": {},
   "outputs": [
    {
     "data": {
      "text/html": [
       "<div>\n",
       "<style scoped>\n",
       "    .dataframe tbody tr th:only-of-type {\n",
       "        vertical-align: middle;\n",
       "    }\n",
       "\n",
       "    .dataframe tbody tr th {\n",
       "        vertical-align: top;\n",
       "    }\n",
       "\n",
       "    .dataframe thead th {\n",
       "        text-align: right;\n",
       "    }\n",
       "</style>\n",
       "<table border=\"1\" class=\"dataframe\">\n",
       "  <thead>\n",
       "    <tr style=\"text-align: right;\">\n",
       "      <th></th>\n",
       "      <th>Sex</th>\n",
       "      <th>Length</th>\n",
       "      <th>Diameter</th>\n",
       "      <th>Height</th>\n",
       "      <th>Whole weight</th>\n",
       "      <th>Shucked weight</th>\n",
       "      <th>Viscera weight</th>\n",
       "      <th>Shell weight</th>\n",
       "      <th>Rings</th>\n",
       "    </tr>\n",
       "  </thead>\n",
       "  <tbody>\n",
       "    <tr>\n",
       "      <th>0</th>\n",
       "      <td>1</td>\n",
       "      <td>0.455</td>\n",
       "      <td>0.365</td>\n",
       "      <td>0.095</td>\n",
       "      <td>0.5140</td>\n",
       "      <td>0.2245</td>\n",
       "      <td>0.1010</td>\n",
       "      <td>0.1500</td>\n",
       "      <td>15</td>\n",
       "    </tr>\n",
       "    <tr>\n",
       "      <th>1</th>\n",
       "      <td>1</td>\n",
       "      <td>0.350</td>\n",
       "      <td>0.265</td>\n",
       "      <td>0.090</td>\n",
       "      <td>0.2255</td>\n",
       "      <td>0.0995</td>\n",
       "      <td>0.0485</td>\n",
       "      <td>0.0700</td>\n",
       "      <td>7</td>\n",
       "    </tr>\n",
       "    <tr>\n",
       "      <th>2</th>\n",
       "      <td>0</td>\n",
       "      <td>0.530</td>\n",
       "      <td>0.420</td>\n",
       "      <td>0.135</td>\n",
       "      <td>0.6770</td>\n",
       "      <td>0.2565</td>\n",
       "      <td>0.1415</td>\n",
       "      <td>0.2100</td>\n",
       "      <td>9</td>\n",
       "    </tr>\n",
       "    <tr>\n",
       "      <th>3</th>\n",
       "      <td>1</td>\n",
       "      <td>0.440</td>\n",
       "      <td>0.365</td>\n",
       "      <td>0.125</td>\n",
       "      <td>0.5160</td>\n",
       "      <td>0.2155</td>\n",
       "      <td>0.1140</td>\n",
       "      <td>0.1550</td>\n",
       "      <td>10</td>\n",
       "    </tr>\n",
       "    <tr>\n",
       "      <th>4</th>\n",
       "      <td>2</td>\n",
       "      <td>0.330</td>\n",
       "      <td>0.255</td>\n",
       "      <td>0.080</td>\n",
       "      <td>0.2050</td>\n",
       "      <td>0.0895</td>\n",
       "      <td>0.0395</td>\n",
       "      <td>0.0550</td>\n",
       "      <td>7</td>\n",
       "    </tr>\n",
       "    <tr>\n",
       "      <th>...</th>\n",
       "      <td>...</td>\n",
       "      <td>...</td>\n",
       "      <td>...</td>\n",
       "      <td>...</td>\n",
       "      <td>...</td>\n",
       "      <td>...</td>\n",
       "      <td>...</td>\n",
       "      <td>...</td>\n",
       "      <td>...</td>\n",
       "    </tr>\n",
       "    <tr>\n",
       "      <th>4172</th>\n",
       "      <td>0</td>\n",
       "      <td>0.565</td>\n",
       "      <td>0.450</td>\n",
       "      <td>0.165</td>\n",
       "      <td>0.8870</td>\n",
       "      <td>0.3700</td>\n",
       "      <td>0.2390</td>\n",
       "      <td>0.2490</td>\n",
       "      <td>11</td>\n",
       "    </tr>\n",
       "    <tr>\n",
       "      <th>4173</th>\n",
       "      <td>1</td>\n",
       "      <td>0.590</td>\n",
       "      <td>0.440</td>\n",
       "      <td>0.135</td>\n",
       "      <td>0.8200</td>\n",
       "      <td>0.4390</td>\n",
       "      <td>0.2145</td>\n",
       "      <td>0.2605</td>\n",
       "      <td>10</td>\n",
       "    </tr>\n",
       "    <tr>\n",
       "      <th>4174</th>\n",
       "      <td>1</td>\n",
       "      <td>0.600</td>\n",
       "      <td>0.475</td>\n",
       "      <td>0.205</td>\n",
       "      <td>0.8200</td>\n",
       "      <td>0.5255</td>\n",
       "      <td>0.2875</td>\n",
       "      <td>0.3080</td>\n",
       "      <td>9</td>\n",
       "    </tr>\n",
       "    <tr>\n",
       "      <th>4175</th>\n",
       "      <td>0</td>\n",
       "      <td>0.625</td>\n",
       "      <td>0.485</td>\n",
       "      <td>0.150</td>\n",
       "      <td>0.8200</td>\n",
       "      <td>0.5310</td>\n",
       "      <td>0.2610</td>\n",
       "      <td>0.2960</td>\n",
       "      <td>10</td>\n",
       "    </tr>\n",
       "    <tr>\n",
       "      <th>4176</th>\n",
       "      <td>1</td>\n",
       "      <td>0.710</td>\n",
       "      <td>0.555</td>\n",
       "      <td>0.195</td>\n",
       "      <td>0.8200</td>\n",
       "      <td>0.3500</td>\n",
       "      <td>0.3765</td>\n",
       "      <td>0.4950</td>\n",
       "      <td>12</td>\n",
       "    </tr>\n",
       "  </tbody>\n",
       "</table>\n",
       "<p>4177 rows × 9 columns</p>\n",
       "</div>"
      ],
      "text/plain": [
       "      Sex  Length  Diameter  Height  Whole weight  Shucked weight  \\\n",
       "0       1   0.455     0.365   0.095        0.5140          0.2245   \n",
       "1       1   0.350     0.265   0.090        0.2255          0.0995   \n",
       "2       0   0.530     0.420   0.135        0.6770          0.2565   \n",
       "3       1   0.440     0.365   0.125        0.5160          0.2155   \n",
       "4       2   0.330     0.255   0.080        0.2050          0.0895   \n",
       "...   ...     ...       ...     ...           ...             ...   \n",
       "4172    0   0.565     0.450   0.165        0.8870          0.3700   \n",
       "4173    1   0.590     0.440   0.135        0.8200          0.4390   \n",
       "4174    1   0.600     0.475   0.205        0.8200          0.5255   \n",
       "4175    0   0.625     0.485   0.150        0.8200          0.5310   \n",
       "4176    1   0.710     0.555   0.195        0.8200          0.3500   \n",
       "\n",
       "      Viscera weight  Shell weight  Rings  \n",
       "0             0.1010        0.1500     15  \n",
       "1             0.0485        0.0700      7  \n",
       "2             0.1415        0.2100      9  \n",
       "3             0.1140        0.1550     10  \n",
       "4             0.0395        0.0550      7  \n",
       "...              ...           ...    ...  \n",
       "4172          0.2390        0.2490     11  \n",
       "4173          0.2145        0.2605     10  \n",
       "4174          0.2875        0.3080      9  \n",
       "4175          0.2610        0.2960     10  \n",
       "4176          0.3765        0.4950     12  \n",
       "\n",
       "[4177 rows x 9 columns]"
      ]
     },
     "execution_count": 105,
     "metadata": {},
     "output_type": "execute_result"
    }
   ],
   "source": [
    "dataframe['Sex'].replace({'M':1,'F':0,'I':2},inplace=True)\n",
    "dataframe"
   ]
  },
  {
   "cell_type": "code",
   "execution_count": 107,
   "id": "e64731da",
   "metadata": {},
   "outputs": [
    {
     "data": {
      "text/html": [
       "<div>\n",
       "<style scoped>\n",
       "    .dataframe tbody tr th:only-of-type {\n",
       "        vertical-align: middle;\n",
       "    }\n",
       "\n",
       "    .dataframe tbody tr th {\n",
       "        vertical-align: top;\n",
       "    }\n",
       "\n",
       "    .dataframe thead th {\n",
       "        text-align: right;\n",
       "    }\n",
       "</style>\n",
       "<table border=\"1\" class=\"dataframe\">\n",
       "  <thead>\n",
       "    <tr style=\"text-align: right;\">\n",
       "      <th></th>\n",
       "      <th>Sex</th>\n",
       "      <th>Length</th>\n",
       "      <th>Diameter</th>\n",
       "      <th>Height</th>\n",
       "      <th>Whole weight</th>\n",
       "      <th>Shucked weight</th>\n",
       "      <th>Viscera weight</th>\n",
       "      <th>Shell weight</th>\n",
       "    </tr>\n",
       "  </thead>\n",
       "  <tbody>\n",
       "    <tr>\n",
       "      <th>0</th>\n",
       "      <td>1</td>\n",
       "      <td>0.455</td>\n",
       "      <td>0.365</td>\n",
       "      <td>0.095</td>\n",
       "      <td>0.5140</td>\n",
       "      <td>0.2245</td>\n",
       "      <td>0.1010</td>\n",
       "      <td>0.1500</td>\n",
       "    </tr>\n",
       "    <tr>\n",
       "      <th>1</th>\n",
       "      <td>1</td>\n",
       "      <td>0.350</td>\n",
       "      <td>0.265</td>\n",
       "      <td>0.090</td>\n",
       "      <td>0.2255</td>\n",
       "      <td>0.0995</td>\n",
       "      <td>0.0485</td>\n",
       "      <td>0.0700</td>\n",
       "    </tr>\n",
       "    <tr>\n",
       "      <th>2</th>\n",
       "      <td>0</td>\n",
       "      <td>0.530</td>\n",
       "      <td>0.420</td>\n",
       "      <td>0.135</td>\n",
       "      <td>0.6770</td>\n",
       "      <td>0.2565</td>\n",
       "      <td>0.1415</td>\n",
       "      <td>0.2100</td>\n",
       "    </tr>\n",
       "    <tr>\n",
       "      <th>3</th>\n",
       "      <td>1</td>\n",
       "      <td>0.440</td>\n",
       "      <td>0.365</td>\n",
       "      <td>0.125</td>\n",
       "      <td>0.5160</td>\n",
       "      <td>0.2155</td>\n",
       "      <td>0.1140</td>\n",
       "      <td>0.1550</td>\n",
       "    </tr>\n",
       "    <tr>\n",
       "      <th>4</th>\n",
       "      <td>2</td>\n",
       "      <td>0.330</td>\n",
       "      <td>0.255</td>\n",
       "      <td>0.080</td>\n",
       "      <td>0.2050</td>\n",
       "      <td>0.0895</td>\n",
       "      <td>0.0395</td>\n",
       "      <td>0.0550</td>\n",
       "    </tr>\n",
       "    <tr>\n",
       "      <th>...</th>\n",
       "      <td>...</td>\n",
       "      <td>...</td>\n",
       "      <td>...</td>\n",
       "      <td>...</td>\n",
       "      <td>...</td>\n",
       "      <td>...</td>\n",
       "      <td>...</td>\n",
       "      <td>...</td>\n",
       "    </tr>\n",
       "    <tr>\n",
       "      <th>4172</th>\n",
       "      <td>0</td>\n",
       "      <td>0.565</td>\n",
       "      <td>0.450</td>\n",
       "      <td>0.165</td>\n",
       "      <td>0.8870</td>\n",
       "      <td>0.3700</td>\n",
       "      <td>0.2390</td>\n",
       "      <td>0.2490</td>\n",
       "    </tr>\n",
       "    <tr>\n",
       "      <th>4173</th>\n",
       "      <td>1</td>\n",
       "      <td>0.590</td>\n",
       "      <td>0.440</td>\n",
       "      <td>0.135</td>\n",
       "      <td>0.8200</td>\n",
       "      <td>0.4390</td>\n",
       "      <td>0.2145</td>\n",
       "      <td>0.2605</td>\n",
       "    </tr>\n",
       "    <tr>\n",
       "      <th>4174</th>\n",
       "      <td>1</td>\n",
       "      <td>0.600</td>\n",
       "      <td>0.475</td>\n",
       "      <td>0.205</td>\n",
       "      <td>0.8200</td>\n",
       "      <td>0.5255</td>\n",
       "      <td>0.2875</td>\n",
       "      <td>0.3080</td>\n",
       "    </tr>\n",
       "    <tr>\n",
       "      <th>4175</th>\n",
       "      <td>0</td>\n",
       "      <td>0.625</td>\n",
       "      <td>0.485</td>\n",
       "      <td>0.150</td>\n",
       "      <td>0.8200</td>\n",
       "      <td>0.5310</td>\n",
       "      <td>0.2610</td>\n",
       "      <td>0.2960</td>\n",
       "    </tr>\n",
       "    <tr>\n",
       "      <th>4176</th>\n",
       "      <td>1</td>\n",
       "      <td>0.710</td>\n",
       "      <td>0.555</td>\n",
       "      <td>0.195</td>\n",
       "      <td>0.8200</td>\n",
       "      <td>0.3500</td>\n",
       "      <td>0.3765</td>\n",
       "      <td>0.4950</td>\n",
       "    </tr>\n",
       "  </tbody>\n",
       "</table>\n",
       "<p>4177 rows × 8 columns</p>\n",
       "</div>"
      ],
      "text/plain": [
       "      Sex  Length  Diameter  Height  Whole weight  Shucked weight  \\\n",
       "0       1   0.455     0.365   0.095        0.5140          0.2245   \n",
       "1       1   0.350     0.265   0.090        0.2255          0.0995   \n",
       "2       0   0.530     0.420   0.135        0.6770          0.2565   \n",
       "3       1   0.440     0.365   0.125        0.5160          0.2155   \n",
       "4       2   0.330     0.255   0.080        0.2050          0.0895   \n",
       "...   ...     ...       ...     ...           ...             ...   \n",
       "4172    0   0.565     0.450   0.165        0.8870          0.3700   \n",
       "4173    1   0.590     0.440   0.135        0.8200          0.4390   \n",
       "4174    1   0.600     0.475   0.205        0.8200          0.5255   \n",
       "4175    0   0.625     0.485   0.150        0.8200          0.5310   \n",
       "4176    1   0.710     0.555   0.195        0.8200          0.3500   \n",
       "\n",
       "      Viscera weight  Shell weight  \n",
       "0             0.1010        0.1500  \n",
       "1             0.0485        0.0700  \n",
       "2             0.1415        0.2100  \n",
       "3             0.1140        0.1550  \n",
       "4             0.0395        0.0550  \n",
       "...              ...           ...  \n",
       "4172          0.2390        0.2490  \n",
       "4173          0.2145        0.2605  \n",
       "4174          0.2875        0.3080  \n",
       "4175          0.2610        0.2960  \n",
       "4176          0.3765        0.4950  \n",
       "\n",
       "[4177 rows x 8 columns]"
      ]
     },
     "execution_count": 107,
     "metadata": {},
     "output_type": "execute_result"
    }
   ],
   "source": [
    "x=dataframe.drop(columns= ['Rings'])\n",
    "y=dataframe['Rings']\n",
    "x"
   ]
  },
  {
   "cell_type": "code",
   "execution_count": 109,
   "id": "c2f40b81",
   "metadata": {},
   "outputs": [
    {
     "data": {
      "text/plain": [
       "0       15\n",
       "1        7\n",
       "2        9\n",
       "3       10\n",
       "4        7\n",
       "        ..\n",
       "4172    11\n",
       "4173    10\n",
       "4174     9\n",
       "4175    10\n",
       "4176    12\n",
       "Name: Rings, Length: 4177, dtype: int64"
      ]
     },
     "execution_count": 109,
     "metadata": {},
     "output_type": "execute_result"
    }
   ],
   "source": [
    "y"
   ]
  },
  {
   "cell_type": "code",
   "execution_count": 108,
   "id": "d113e9bf",
   "metadata": {},
   "outputs": [
    {
     "data": {
      "text/plain": [
       "array([[-0.0105225 , -0.67088921, -0.50179694, ..., -0.61037964,\n",
       "        -0.7328165 , -0.64358742],\n",
       "       [-0.0105225 , -1.61376082, -1.57304487, ..., -1.22513334,\n",
       "        -1.24343929, -1.25742181],\n",
       "       [-1.26630752,  0.00259051,  0.08738942, ..., -0.45300269,\n",
       "        -0.33890749, -0.18321163],\n",
       "       ...,\n",
       "       [-0.0105225 ,  0.63117159,  0.67657577, ...,  0.86994729,\n",
       "         1.08111018,  0.56873549],\n",
       "       [-1.26630752,  0.85566483,  0.78370057, ...,  0.89699645,\n",
       "         0.82336724,  0.47666033],\n",
       "       [-0.0105225 ,  1.61894185,  1.53357412, ...,  0.00683308,\n",
       "         1.94673739,  2.00357336]])"
      ]
     },
     "execution_count": 108,
     "metadata": {},
     "output_type": "execute_result"
    }
   ],
   "source": [
    "from sklearn.preprocessing import scale\n",
    "x = scale(x)\n",
    "x"
   ]
  },
  {
   "cell_type": "code",
   "execution_count": 110,
   "id": "10f85f6d",
   "metadata": {},
   "outputs": [
    {
     "name": "stdout",
     "output_type": "stream",
     "text": [
      "(3341, 8) (836, 8)\n"
     ]
    }
   ],
   "source": [
    "from sklearn.model_selection import train_test_split\n",
    "x_train, x_test, y_train, y_test = train_test_split(x,y, test_size = 0.2)\n",
    "print(x_train.shape, x_test.shape)"
   ]
  },
  {
   "cell_type": "code",
   "execution_count": 112,
   "id": "9235c02d",
   "metadata": {},
   "outputs": [],
   "source": [
    "from sklearn.linear_model import LinearRegression\n",
    "MLR=LinearRegression()"
   ]
  },
  {
   "cell_type": "code",
   "execution_count": 113,
   "id": "0e9232ac",
   "metadata": {},
   "outputs": [
    {
     "data": {
      "text/plain": [
       "LinearRegression()"
      ]
     },
     "execution_count": 113,
     "metadata": {},
     "output_type": "execute_result"
    }
   ],
   "source": [
    "MLR.fit(x_train,y_train)"
   ]
  },
  {
   "cell_type": "code",
   "execution_count": 114,
   "id": "2cb00df2",
   "metadata": {},
   "outputs": [
    {
     "data": {
      "text/plain": [
       "array([10.60453111,  9.57859199,  9.02885944, 10.69973295, 11.03459463,\n",
       "       10.38878523, 11.37778156, 10.51717733,  8.90829015, 10.00291301,\n",
       "       10.04287348, 12.53784931, 11.60128896, 10.48011729, 10.45337558,\n",
       "       10.56397742,  9.77507924, 12.27526565,  6.94877654,  5.9596642 ,\n",
       "        6.91464608,  5.97604511,  6.85209037, 10.13558901, 12.71744314,\n",
       "        7.18579596, 11.12052126, 13.95411191, 10.98029488,  7.87145451,\n",
       "        8.80921157,  9.66558923,  7.56418115, 10.87640619,  6.61376328,\n",
       "       13.1454006 , 12.76283828,  8.96911074, 10.29277359,  7.45594672,\n",
       "        7.91420666, 11.35183203,  6.08651246, 12.14995781,  9.97585378,\n",
       "       11.35897375,  7.76912532,  9.57190484, 13.29567652,  7.32016434,\n",
       "       10.06337038, 11.44002908, 12.09559854,  9.06302236,  6.7880966 ,\n",
       "        7.10193035, 11.60906211,  8.55056317, 11.78320255,  9.39617367,\n",
       "        6.46297961, 13.05976356, 12.81004334,  9.30293838,  8.35135014,\n",
       "        8.08901949, 13.08250103, 13.02957692, 10.20535552,  8.59690036,\n",
       "       11.29843647, 11.14493185, 11.87640403, 10.15952944,  6.71629956,\n",
       "       12.26129922, 13.37417686,  8.05800881,  9.62296625, 11.238644  ,\n",
       "        7.19090846, 10.46117907,  6.99061864, 14.98277217,  9.63926434,\n",
       "       12.15450031, 12.78190313, 12.54029086,  9.07209969,  7.2327079 ,\n",
       "       13.04069605, 10.22450476, 10.4913953 ,  9.1057298 , 12.09987051,\n",
       "        8.68324885, 12.28863947, 16.24256179,  6.81518945, 10.27335741,\n",
       "        8.258699  , 18.04906006, 12.43553908, 10.18456788,  9.99677848,\n",
       "        8.44859853,  6.13775984, 11.22094949,  9.81942376, 10.02170195,\n",
       "        6.80814696,  9.62401904,  7.6114058 , 10.70479353, 10.77601083,\n",
       "       10.23313699,  6.96394164,  9.32697686,  6.49591848, 10.80403911,\n",
       "       10.66727186,  8.47520596, 10.22083775,  6.7743982 , 11.5253045 ,\n",
       "       12.80124941,  8.97651834,  6.36795914, 12.03943337, 11.85930452,\n",
       "       10.27260226,  9.54321729, 10.82480739,  9.01018773, 12.51142019,\n",
       "        8.21670412,  9.59651378, 10.34885633, 10.78430716,  9.25254651,\n",
       "        7.24352092,  6.68423232, 10.97010573,  7.34635435, 10.88113476,\n",
       "        9.85411068, 14.04943089, 10.77687879, 12.01280269, 11.87197678,\n",
       "        9.94186717,  9.819267  ,  6.68149896, 10.61789771, 10.8766721 ,\n",
       "       11.92371829, 13.29449434,  8.06305466,  9.80005504, 10.55250433,\n",
       "        9.12723483, 13.14024331,  8.92571815,  9.03487152,  8.04943013,\n",
       "       11.55635357, 12.5511416 ,  9.34835973, 16.24628532,  6.84166916,\n",
       "       14.45538253,  7.03452711, 12.59772555, 12.28757184,  6.12739696,\n",
       "        6.04910298, 10.77592788, 11.41818839, 12.6895288 ,  9.08245856,\n",
       "       11.95045927,  7.44731854, 12.54167269,  7.08578901, 11.03929999,\n",
       "       10.61057409,  7.19996964,  8.57695658, 12.23395896, 11.52283367,\n",
       "       15.37345334,  8.28244749, 14.19811746,  9.32964774, 10.40536304,\n",
       "        9.61563459, 11.61924775, 13.4389812 ,  8.95111361, 13.01143418,\n",
       "        6.81925638, 10.07762845,  7.25031607, 12.18215027,  9.31721213,\n",
       "        9.82695672,  7.2969551 , 12.60624313, 10.81650834,  6.86411913,\n",
       "       11.94888895, 16.45907535,  9.36712354,  9.63817592,  4.67185638,\n",
       "        8.46743295, 10.31388669,  7.53175243,  8.99974344, 11.34843904,\n",
       "       11.18766464, 11.29641707, 10.18867651, 11.47573065,  6.70993799,\n",
       "       11.66543968, 11.2541768 , 11.16155631, 11.35324929, 13.04805519,\n",
       "       13.41845106, 10.81442309, 11.44702604,  9.05221178, 11.60497984,\n",
       "        7.33458871, 11.44660078, 10.88939391,  7.23449582, 11.20963285,\n",
       "       13.94820183, 10.21969951,  8.58184309,  9.28123326,  7.50215371,\n",
       "        9.30363707,  9.43465407,  6.73925262,  7.10617079, 10.53226895,\n",
       "       12.1560202 ,  9.08025036, 10.29829789, 13.57346372,  4.32202974,\n",
       "       12.54420804, 11.22014894,  8.49026313,  9.98781707, 11.79268793,\n",
       "        7.33723234, 11.49768441, 11.3834804 , 11.4340471 , 10.13640768,\n",
       "       13.43353536, 10.67636887, 13.46381032, 11.14444153,  7.87983296,\n",
       "       11.22240068, 10.10909398, 10.69054155, 10.95684865,  8.87363939,\n",
       "       11.21423103, 11.5076214 ,  7.43139744, 10.83307024, 12.04284655,\n",
       "        7.48860151, 11.48136547, 12.58247798,  7.41760139,  7.60815659,\n",
       "        8.15062513, 11.79689612, 12.68921348, 16.00350558,  8.97916636,\n",
       "        6.22041057, 13.79190162,  9.96127781, 12.62056923, 10.94938718,\n",
       "        7.43916995, 13.44321312, 10.7617164 ,  9.54891309,  9.27403618,\n",
       "       10.97339368,  7.97708847,  7.15292055, 11.77079891, 13.19218385,\n",
       "        6.57123388, 11.44093001, 11.12720667, 10.45030696,  6.37092321,\n",
       "        9.41371155, 15.29490794, 10.23948681, 11.61727937, 11.73592781,\n",
       "        8.57629571,  6.20298687,  9.3742035 , 12.35066325,  8.8230718 ,\n",
       "       10.76856131, 11.32700166, 11.00143489,  7.04392434, 10.78851094,\n",
       "       12.2077578 ,  6.58467798,  6.4008259 , 12.18551581, 11.25151064,\n",
       "       11.18305838,  9.89485589,  7.9601312 ,  9.20781896, 10.13728356,\n",
       "       14.00260149, 10.74486021, 10.69210598, 12.56194441,  8.83102268,\n",
       "       11.29040772,  8.45096694, 10.7884319 , 10.14184543, 10.26221246,\n",
       "        9.66855525, 10.98760404, 12.22657224,  9.15204116, 13.16197982,\n",
       "       11.57161789, 10.93967754,  8.12139809, 10.78866278,  7.95174412,\n",
       "       10.78051091, 10.04710261, 10.89262549, 10.83403176, 11.7960874 ,\n",
       "       12.01758639, 10.86004998,  7.13034611,  7.0701828 , 10.10372837,\n",
       "       11.35967266, 12.38854154, 11.93967362,  6.4475993 , 11.32682324,\n",
       "       10.45905211,  9.85699167,  7.79465546,  6.84667048, 11.73695525,\n",
       "        9.35538546, 12.95197178,  9.85557505, 10.05226463,  9.68799264,\n",
       "       10.98055993,  9.64852996,  9.08271349,  9.00874424,  9.76208071,\n",
       "        8.86957391, 10.62508742,  8.20714824, 10.15519719,  8.43789957,\n",
       "       15.28043184, 11.67795557, 15.37015025,  8.90716105,  9.74371129,\n",
       "       12.27127037, 11.69049954, 11.34277937, 11.42097581,  6.9419396 ,\n",
       "        8.04921262, 10.91379262,  6.6675117 , 11.43360749, 11.08591476,\n",
       "        8.96570814,  8.99795905, 11.67511366, 10.15158542, 11.39871917,\n",
       "       10.60736272, 13.28332537, 12.79836628, 12.84813062,  9.56350466,\n",
       "       11.56577023, 11.26304239,  9.30839681,  8.53623556,  7.91663981,\n",
       "        6.84314162,  7.95499081, 13.27830084,  6.60626786,  8.613285  ,\n",
       "       10.70661795, 13.4817552 ,  9.94253454, 10.92029718, 16.07435342,\n",
       "       10.79441689,  6.8713066 , 10.53662671, 11.05503124, 10.57345914,\n",
       "       11.10211561, 12.28235477,  9.45215898,  6.96794932, 10.2005444 ,\n",
       "       11.94330513, 12.42545704,  6.97013176,  9.17431325,  8.13132152,\n",
       "       10.84249912, 11.18166767,  9.39310836,  9.1528215 , 12.35348539,\n",
       "       11.41235578,  9.98752173, 11.2542459 ,  7.66696293, 10.82694499,\n",
       "       12.30907915,  7.39078995, 11.88805606, 10.69306578,  4.73641788,\n",
       "       12.54888722,  9.52509164,  7.79650255,  9.23889013, 10.25817404,\n",
       "        8.957299  , 11.24636098, 11.02445979, 10.42055625,  8.27076543,\n",
       "        6.53365262,  8.20961669, 12.26630254,  9.42339596,  7.62902613,\n",
       "        8.94827267, 10.16255913,  6.34489262, 13.25362668, 10.81218017,\n",
       "        8.08269341,  3.42682446,  9.47065075,  8.36376772,  6.59330671,\n",
       "       11.47590823,  4.54015258,  5.93184003,  8.27431166, 11.78916931,\n",
       "        6.9065631 ,  9.91556587, 10.62336197,  9.8723387 , 11.70045973,\n",
       "       11.66813521,  7.85375392, 10.91506471, 10.40192363, 10.76005411,\n",
       "        8.48847561, 12.89453119,  7.60676497, 11.1384478 ,  6.59186104,\n",
       "       11.24955967, 12.35680105,  6.69733817, 12.6321756 , 13.81346079,\n",
       "        6.6602345 , 11.7041958 , 14.88204433, 10.46120703,  9.76234614,\n",
       "       12.49322075,  8.44857331, 11.06246334, 10.43008618, 11.33174852,\n",
       "        7.12432387, 11.03038599,  7.09320888, 14.98226646, 12.56338295,\n",
       "        9.66308154, 11.60222427, 12.60333879,  8.11039167,  6.80770882,\n",
       "       11.25387444,  7.10586686, 12.73349105,  9.9795451 ,  7.48116643,\n",
       "        6.83635263,  9.11242301,  7.78331955, 10.6998709 ,  8.62095022,\n",
       "        7.73442174,  5.95079655,  9.98963214, 12.77352916, 10.79701686,\n",
       "        8.87681835,  4.89681511, 13.02937397,  6.85047805, 10.97548634,\n",
       "        6.51621816,  9.17424254, 11.59919752, 16.33571588,  7.80425484,\n",
       "       10.41148787, 10.69350877, 11.07810424,  9.77590592, 13.78968623,\n",
       "        9.72626801, 10.97809115, 12.6467315 , 10.5816234 ,  6.36230203,\n",
       "        6.98686662, 12.20088605, 10.77742028, 10.19727667,  6.76202833,\n",
       "        9.21038397, 11.14476056,  9.61614891,  8.00985156, 11.71677524,\n",
       "        7.29026892, 10.43682111, 10.53803204, 11.1590329 , 10.03099312,\n",
       "       13.24615182,  8.22618613,  9.27986698, 13.14628867,  7.53977095,\n",
       "        6.77579322, 11.76146208, 11.9408213 ,  5.88031597, 12.33132299,\n",
       "        7.09241475,  8.75975794, 11.94782175,  6.85777342,  9.98651375,\n",
       "        9.7369079 ,  9.12943351,  7.6706451 , 12.09071516, 12.89785165,\n",
       "       10.11568563, 11.40298803,  7.04653868, 11.31424685,  4.1439027 ,\n",
       "       10.61842307,  9.75371796,  7.84805604, 11.13957813,  7.74959249,\n",
       "        8.34260302,  7.58482293, 11.29927361, 12.62999835,  5.65080513,\n",
       "       13.64755161,  8.34716525, 12.95834566,  9.99568612, 11.29109791,\n",
       "        8.74531051, 11.12547173, 12.95904704, 12.25306631,  7.62142751,\n",
       "       10.7818408 ,  7.64952028, 11.43572847,  6.73308224, 11.90630888,\n",
       "       10.81205464, 12.70568514,  9.08510592,  8.26171201, 11.04681052,\n",
       "        9.65860422,  7.88195492, 11.06859433, 12.09375554,  9.14682426,\n",
       "        8.86662894, 12.0356208 ,  7.50198986, 10.58482289, 11.58145673,\n",
       "        8.81123261, 11.74215101,  9.1191032 ,  7.72917773, 10.9461425 ,\n",
       "        9.90752453, 13.3906509 , 11.64909856, 10.26852757,  7.46567201,\n",
       "        7.0319306 ,  8.86244778, 12.09605154, 12.60659707,  9.44914262,\n",
       "        9.60397141,  9.52092919,  8.74965095, 10.65159013,  7.79701397,\n",
       "       10.23778514, 10.38217853,  8.11532312,  6.08519229, 11.67781165,\n",
       "        9.90819551, 12.0034977 , 10.49791805,  8.60815159, 15.81535686,\n",
       "        7.73215912,  6.94606574, 14.81580881, 13.27893142, 11.3401797 ,\n",
       "       11.88100409,  7.07761388,  8.06095471,  8.79867657, 15.48707233,\n",
       "        9.85846937, 11.55622536, 12.22592412,  6.56304354,  8.83390746,\n",
       "       11.53250399, 10.5729893 , 14.69281048,  9.48992989, 10.81926853,\n",
       "       10.27245019,  6.89926373,  9.2827042 ,  6.65894261,  9.80037051,\n",
       "        9.79244394, 10.5538581 ,  6.83567875, 11.59147961,  7.39999395,\n",
       "       12.52165902, 10.26645108,  6.73152488, 11.57876576, 13.66024537,\n",
       "        9.84454689, 11.08672904,  6.60184382, 14.03055944,  9.29104112,\n",
       "        4.19742114, 10.33427089, 11.18302738, 11.2291004 , 10.71865943,\n",
       "       10.49725219, 10.9617565 ,  7.11561282, 10.46534126, 12.30056685,\n",
       "       13.06434254, 17.19337487, 11.92106059, 11.82299736,  8.9591355 ,\n",
       "       10.34475421, 10.37549074,  7.64550131, 10.23601792, 11.55931155,\n",
       "        7.18943506, 11.2567304 ,  6.25125706, 11.59603296,  4.20998558,\n",
       "        7.74289188, 15.19658734,  9.55834331, 12.64852619, 13.78155452,\n",
       "        9.98402239, 12.41494116, 12.9507244 ,  8.94222096,  9.30550652,\n",
       "        7.43315519,  5.95603715,  9.2136035 , 11.765057  ,  7.7406189 ,\n",
       "        7.62953571,  8.95307339, 10.39126459, 11.57850606,  7.79162008,\n",
       "        8.59894207, 11.59881842,  9.74102254,  8.57029256, 11.9950106 ,\n",
       "       10.5019238 , 10.19957609,  7.00205288,  8.42392751, 15.2445398 ,\n",
       "       11.47578532, 10.22452411,  8.45290284, 13.80255661,  6.76624327,\n",
       "       13.38315697,  8.28048987,  9.67873108,  7.52777172, 11.96085089,\n",
       "       11.36000561, 13.80565902, 10.98277141, 11.11275242,  6.05037876,\n",
       "        9.63676684,  6.85332146, 11.10181601,  9.12667504, 10.03679927,\n",
       "       11.19657539, 10.76803849, 10.91671274, 10.68418487,  8.08210492,\n",
       "        8.7300004 , 10.6920048 ,  7.22282015,  9.31145436, 13.37402449,\n",
       "       10.77230444, 11.25173201,  9.86351889,  7.25751839,  9.73051765,\n",
       "        9.3150442 , 13.59429812, 11.52486601, 10.33422355, 12.0489478 ,\n",
       "        9.72628327, 14.4525134 , 10.06640072,  6.03827894,  7.11254318,\n",
       "        9.98048673,  8.84911515, 11.07252047,  4.34225476,  9.36527316,\n",
       "       10.46908762,  9.4216894 ,  6.48830928,  9.81697484, 10.65785801,\n",
       "        8.77993259, 12.78539916, 10.2025882 ,  7.15872355, 10.35183612,\n",
       "        8.70835433,  8.50225188, 10.12240954, 15.95268053, 11.53150684,\n",
       "        8.9776938 ])"
      ]
     },
     "execution_count": 114,
     "metadata": {},
     "output_type": "execute_result"
    }
   ],
   "source": [
    "y_pred=MLR.predict(x_test)\n",
    "y_pred"
   ]
  },
  {
   "cell_type": "code",
   "execution_count": 115,
   "id": "d32e46ef",
   "metadata": {},
   "outputs": [
    {
     "data": {
      "text/plain": [
       "array([11.14674203, 12.55717432,  9.60607282, ...,  9.4722294 ,\n",
       "        8.90482564, 10.76290851])"
      ]
     },
     "execution_count": 115,
     "metadata": {},
     "output_type": "execute_result"
    }
   ],
   "source": [
    "pred=MLR.predict(x_train)\n",
    "pred"
   ]
  },
  {
   "cell_type": "code",
   "execution_count": null,
   "id": "d97d4cf3",
   "metadata": {},
   "outputs": [],
   "source": [
    "from sklearn.metrics import r2_score\n",
    "accuracy=r2_score(y_test,y_pred)\n",
    "accuracy"
   ]
  },
  {
   "cell_type": "code",
   "execution_count": 116,
   "id": "072b2a44",
   "metadata": {},
   "outputs": [
    {
     "data": {
      "text/plain": [
       "array([9.90034525])"
      ]
     },
     "execution_count": 116,
     "metadata": {},
     "output_type": "execute_result"
    }
   ],
   "source": [
    "MLR.predict([[1,0.455,0.365,0.095,0.5140,0.2245,0.1010,0.150]])"
   ]
  },
  {
   "cell_type": "code",
   "execution_count": null,
   "id": "5c391b3c",
   "metadata": {},
   "outputs": [],
   "source": [
    "from sklearn import metrics\n",
    "from sklearn.metrics import mean_squared_error\n",
    "np.sqrt(mean_squared_error(y_test,y_pred))"
   ]
  },
  {
   "cell_type": "code",
   "execution_count": 117,
   "id": "34837fc3",
   "metadata": {},
   "outputs": [
    {
     "data": {
      "text/plain": [
       "array([-0.        ,  0.        ,  0.        ,  0.54860833,  0.09405556,\n",
       "        0.        ,  0.        ,  0.80915436])"
      ]
     },
     "execution_count": 117,
     "metadata": {},
     "output_type": "execute_result"
    }
   ],
   "source": [
    "from sklearn.linear_model import Lasso, Ridge\n",
    "#intialising model\n",
    "lso=Lasso(alpha=0.01,normalize=True)\n",
    "#fit the model\n",
    "lso.fit(x_train,y_train)\n",
    "Lasso(alpha=0.01, normalize=True)\n",
    "#prediction on test data\n",
    "lso_pred=lso.predict(x_test)\n",
    "#coef\n",
    "coef=lso.coef_\n",
    "coef\n"
   ]
  },
  {
   "cell_type": "code",
   "execution_count": 119,
   "id": "5a7032cd",
   "metadata": {},
   "outputs": [
    {
     "data": {
      "text/plain": [
       "0.3547897723354251"
      ]
     },
     "execution_count": 119,
     "metadata": {},
     "output_type": "execute_result"
    }
   ],
   "source": [
    "from sklearn import metrics\n",
    "from sklearn.metrics import mean_squared_error\n",
    "metrics.r2_score(y_test,lso_pred)"
   ]
  },
  {
   "cell_type": "code",
   "execution_count": 150,
   "id": "df00cfd2",
   "metadata": {},
   "outputs": [
    {
     "data": {
      "text/plain": [
       "2073    2.645751\n",
       "1291    3.605551\n",
       "613     4.242641\n",
       "4081    3.316625\n",
       "2671    2.828427\n",
       "          ...   \n",
       "2449    3.000000\n",
       "1024    3.162278\n",
       "2213    4.123106\n",
       "1365    3.162278\n",
       "2782    2.828427\n",
       "Name: Rings, Length: 836, dtype: float64"
      ]
     },
     "execution_count": 150,
     "metadata": {},
     "output_type": "execute_result"
    }
   ],
   "source": [
    "np.sqrt(y_test,lso_pred)"
   ]
  },
  {
   "cell_type": "code",
   "execution_count": 120,
   "id": "3e2901cc",
   "metadata": {},
   "outputs": [
    {
     "data": {
      "text/plain": [
       "array([10.65676016,  9.54127034,  9.03432412, 10.67858688, 11.05673018,\n",
       "       10.45565224, 11.43787453, 10.45148939,  8.94531298, 10.11637845,\n",
       "       10.04610039, 12.47957384, 11.52279473, 10.50652417, 10.46376598,\n",
       "       10.58344257,  9.7450947 , 12.18167137,  6.87265319,  5.94024677,\n",
       "        6.92034745,  5.96101022,  6.90470425, 10.21239549, 12.73398118,\n",
       "        7.20027029, 11.09931065, 13.8073668 , 11.02006044,  7.93687929,\n",
       "        8.82926828,  9.73407284,  7.65404586, 10.81979906,  6.60244871,\n",
       "       13.0047089 , 12.72677443,  8.98704435, 10.31163447,  7.42451081,\n",
       "        7.88185075, 11.33362152,  6.06161371, 12.09144022,  9.95765734,\n",
       "       11.34012526,  7.83190325,  9.62692339, 13.17978574,  7.33598522,\n",
       "       10.20519413, 11.45246357, 12.12118548,  9.09189382,  6.73720029,\n",
       "        7.17762095, 11.52557113,  8.54425983, 11.84456129,  9.52594158,\n",
       "        6.46462079, 12.99786996, 12.67232867,  9.35532212,  8.33474782,\n",
       "        8.12866723, 13.00891449, 12.93989004, 10.27210488,  8.54873369,\n",
       "       11.35935668, 11.13563715, 11.86388029, 10.2484593 ,  6.71066262,\n",
       "       12.2314265 , 13.358513  ,  8.10893352,  9.64945881, 11.22430444,\n",
       "        7.21186014, 10.52509981,  7.02375316, 14.87253948,  9.69091405,\n",
       "       12.03880346, 12.69425885, 12.54156105,  9.0988803 ,  7.24949222,\n",
       "       12.8816219 , 10.25587431, 10.46484032,  9.17426276, 11.97105274,\n",
       "        8.74845302, 12.26836428, 16.04919688,  6.79479545, 10.31768689,\n",
       "        8.58702731, 17.72283634, 12.34872527, 10.29727388,  9.94092227,\n",
       "        8.51829   ,  6.11740503, 11.19543442,  9.86620101,  9.96561835,\n",
       "        6.86026882,  9.64416617,  7.77821211, 10.77414222, 10.74367009,\n",
       "       10.28067826,  6.98438261,  9.34033792,  6.48131441, 10.73991731,\n",
       "       10.67267016,  8.52108129, 10.24756291,  6.78382093, 11.54459147,\n",
       "       12.63618768,  8.9769513 ,  6.41746517, 12.00365603, 11.84674989,\n",
       "       10.3187344 ,  9.71646601, 10.88280172,  9.03520081, 12.41829731,\n",
       "        8.28350654,  9.53463149, 10.40625817, 10.7720559 ,  9.27862452,\n",
       "        7.64909877,  6.73760644, 10.97101535,  7.35956823, 10.89152442,\n",
       "        9.82746923, 13.89605806, 10.74796147, 11.94254418, 11.90255277,\n",
       "        9.94532074,  9.78582482,  6.65509325, 10.63428478, 10.86492002,\n",
       "       11.91007473, 13.18578268,  7.97741838,  9.76154745, 10.59565638,\n",
       "        9.12536763, 13.00447454,  8.96944143,  9.03673623,  7.99881841,\n",
       "       11.45523225, 12.61291583,  9.34770175, 16.03856518,  6.85544861,\n",
       "       14.32832918,  7.03099845, 12.60971947, 12.34320099,  6.11655154,\n",
       "        6.04178793, 10.68371144, 11.55820008, 12.61700758,  9.11106619,\n",
       "       11.83372453,  7.43165468, 12.3637814 ,  7.10828441, 10.95310294,\n",
       "       10.5765517 ,  7.19796677,  8.59477132, 12.2266117 , 11.53407367,\n",
       "       15.16330664,  8.26250183, 14.1184623 ,  9.29353116, 10.49578193,\n",
       "        9.71006141, 11.57872781, 13.38139737,  8.94177723, 12.96785981,\n",
       "        6.93475528,  9.99120839,  7.25930659, 12.16471133,  9.49719199,\n",
       "        9.77530369,  7.28623642, 12.56445749, 10.84777844,  6.85334089,\n",
       "       11.92705381, 16.32645047,  9.38042927,  9.84708873,  4.78402574,\n",
       "        8.50858149, 10.3869669 ,  7.5555288 ,  8.98230449, 11.56427134,\n",
       "       11.15275014, 11.23351328, 10.16945959, 11.45837276,  6.67668654,\n",
       "       11.63953437, 11.33951495, 11.18208371, 11.30113294, 13.02726348,\n",
       "       13.24771349, 10.82124103, 11.63355598,  9.06592162, 11.61086632,\n",
       "        7.30157251, 11.41889107, 10.8816142 ,  7.24786421, 11.15969791,\n",
       "       13.80895631, 10.19378905,  8.60810671,  9.30227282,  7.46604071,\n",
       "        9.25253605,  9.50991708,  6.71952434,  7.13627184, 10.49833975,\n",
       "       12.06249735,  9.12835313, 10.27636484, 13.53364742,  4.43835737,\n",
       "       12.43699971, 11.26431468,  8.46964345,  9.95892622, 11.7366338 ,\n",
       "        7.34248164, 11.45344175, 11.4917582 , 11.44822029, 10.15945597,\n",
       "       13.26557037, 10.7181655 , 13.39007274, 11.21946524,  7.93357193,\n",
       "       11.19528169, 10.11167801, 10.69945937, 10.8703625 ,  8.88741521,\n",
       "       11.22495601, 11.48664524,  7.42295045, 10.81473221, 12.01608052,\n",
       "        7.52498997, 11.44948356, 12.56783728,  7.4240027 ,  7.65477479,\n",
       "        8.16252121, 11.79819442, 12.66645572, 15.7820603 ,  8.94673969,\n",
       "        6.2451001 , 13.64408906,  9.99459942, 12.47751275, 11.01892104,\n",
       "        7.46966259, 13.32373957, 10.67682014,  9.56732308,  9.31229306,\n",
       "       10.96771232,  7.96640589,  7.1589324 , 11.70994926, 13.07688396,\n",
       "        6.5650446 , 11.42940781, 11.12071957, 10.45075895,  6.42372627,\n",
       "        9.43588486, 15.08130225, 10.18585572, 11.57084141, 11.84973463,\n",
       "        8.55756949,  6.20241874,  9.440676  , 12.33116297,  8.80309603,\n",
       "       10.79974195, 11.3415183 , 11.05176755,  7.04639507, 10.76094366,\n",
       "       12.20075674,  6.59590606,  6.40926845, 12.1796729 , 11.20160835,\n",
       "       11.13077844,  9.86113475,  7.93960793,  9.23698632, 10.09948664,\n",
       "       13.99619476, 10.73971106, 10.71852086, 12.48521248,  8.84569236,\n",
       "       11.25568234,  8.62246767, 10.73939346, 10.05765843, 10.43968472,\n",
       "        9.63853726, 10.91887809, 12.19903158,  9.18457944, 13.0981512 ,\n",
       "       11.64798769, 11.04275318,  8.15496499, 10.80019271,  7.99980762,\n",
       "       10.80535233, 10.11969284, 10.8281485 , 10.77360815, 11.70361412,\n",
       "       12.01602504, 10.94806796,  7.12577883,  7.14387046, 10.10948463,\n",
       "       11.26345583, 12.3101959 , 11.95502191,  6.44000954, 11.29115925,\n",
       "       10.51852028, 10.02657571,  7.83580367,  6.960176  , 11.74869357,\n",
       "        9.33170121, 12.87857317,  9.82402583, 10.04345331,  9.74017429,\n",
       "       10.88306527,  9.73138725,  9.08587831,  8.97705405,  9.75928892,\n",
       "        9.00430678, 10.61966568,  8.24455029, 10.13825721,  8.50116009,\n",
       "       15.09787401, 11.72641509, 15.16144419,  8.84885118,  9.76767369,\n",
       "       12.22702045, 11.63143297, 11.33341116, 11.38567064,  6.94427035,\n",
       "        8.04732684, 10.91524287,  6.69364162, 11.4184413 , 10.98810033,\n",
       "        9.03454697,  8.96883299, 11.67875909, 10.17442095, 11.38114268,\n",
       "       10.53666171, 13.09479686, 12.75619033, 12.80009424,  9.59643182,\n",
       "       11.47877582, 11.27387542,  9.34932182,  8.55720188,  7.96272772,\n",
       "        6.95759389,  7.96166695, 13.10303534,  6.67928329,  8.75754132,\n",
       "       10.70363628, 13.38412198,  9.9527582 , 10.92816717, 15.86565947,\n",
       "       10.87139736,  6.89610074, 10.57702706, 11.03655752, 10.64317768,\n",
       "       11.06322161, 12.27596531,  9.38717314,  6.9744712 , 10.23267538,\n",
       "       11.95674759, 12.42114599,  6.93341014,  9.17351754,  8.08405331,\n",
       "       10.75169403, 11.2326305 ,  9.31217757,  9.14872102, 12.23127194,\n",
       "       11.37459517, 10.14199327, 11.24340543,  7.70824946, 10.8312928 ,\n",
       "       12.3598985 ,  7.39621039, 11.81556867, 10.73653724,  4.86277489,\n",
       "       12.499006  ,  9.62651877,  7.76836669,  9.22971743, 10.34864177,\n",
       "        8.99577107, 11.29978664, 11.06712913, 10.39420117,  8.28617502,\n",
       "        6.53341292,  8.2260329 , 12.19406637,  9.43047766,  7.60040984,\n",
       "        9.02610016, 10.11292076,  6.3422343 , 13.12246802, 10.75679019,\n",
       "        8.0632122 ,  3.90772835,  9.46844827,  8.34401381,  6.61362013,\n",
       "       11.46951134,  4.67173067,  5.91444466,  8.23100839, 11.86030221,\n",
       "        6.91159141, 10.01383626, 10.64062643,  9.97331196, 11.5668567 ,\n",
       "       11.65024028,  7.86438385, 10.9284723 , 10.39103834, 10.79827433,\n",
       "        8.46492632, 12.7589915 ,  7.59035338, 11.1254707 ,  6.56684883,\n",
       "       11.28470425, 12.25174787,  6.67428385, 12.63046748, 13.64795778,\n",
       "        6.67222687, 11.71598556, 14.71625383, 10.4557369 ,  9.78438239,\n",
       "       12.40047363,  8.50801319, 10.99832282, 10.44904708, 11.28292455,\n",
       "        7.17471316, 10.96247204,  7.12074892, 14.75977531, 12.50292364,\n",
       "        9.71523576, 11.5800501 , 12.54090157,  8.11254106,  6.9234049 ,\n",
       "       11.24337301,  7.10591149, 12.67958031,  9.98635713,  7.4889537 ,\n",
       "        6.86656224,  9.07836857,  7.78991002, 10.90696668,  8.62743452,\n",
       "        7.76478083,  5.93142277, 10.12887919, 12.7826838 , 10.70494148,\n",
       "        8.86297191,  5.02300255, 12.97118021,  6.96407075, 10.98324319,\n",
       "        6.50791197,  9.17393635, 11.62431739, 16.13847949,  8.04701474,\n",
       "       10.50339241, 10.64984174, 10.97709418,  9.76675494, 13.65303766,\n",
       "        9.7063661 , 10.95564875, 12.56668084, 10.57918392,  6.3455698 ,\n",
       "        6.99416451, 12.24166524, 10.8556393 , 10.41026479,  6.79206027,\n",
       "        9.24162442, 11.12254313,  9.62171903,  8.00947937, 11.67586422,\n",
       "        7.41379595, 10.46054225, 10.56696483, 11.21831438, 10.05931457,\n",
       "       13.1046165 ,  8.26120057,  9.26720847, 13.14638868,  7.52051091,\n",
       "        6.89325562, 11.66776519, 11.94186171,  5.87741885, 12.34435779,\n",
       "        7.09506472,  8.74618995, 11.89351887,  6.97117956, 10.01156036,\n",
       "        9.70807117,  9.12649733,  7.70424508, 12.05970797, 12.85807903,\n",
       "       10.25654639, 11.36348912,  7.07777613, 11.24191445,  4.26529986,\n",
       "       10.56162199,  9.7985862 ,  7.8238042 , 11.05615702,  7.77896202,\n",
       "        8.3268053 ,  7.61187342, 11.23988684, 12.51698521,  5.62023502,\n",
       "       13.64538286,  8.34160825, 12.95785396, 10.00866302, 11.22266927,\n",
       "        8.75212941, 11.10607104, 12.85676632, 12.22656222,  7.61705113,\n",
       "       10.78191028,  7.61242193, 11.39350163,  6.8124052 , 11.95243195,\n",
       "       10.75459796, 12.66347529,  9.06683085,  8.23703359, 11.00179276,\n",
       "        9.64222488,  7.85281212, 11.08730069, 11.93142948,  9.11199825,\n",
       "        8.87348378, 12.03718361,  7.51749532, 10.63492585, 11.57088648,\n",
       "        8.85017547, 11.76137089,  9.06604599,  7.78026418, 10.99181107,\n",
       "        9.91104027, 13.37384007, 11.67960856, 10.33799319,  7.4638839 ,\n",
       "        7.03119251,  8.89757012, 12.07997113, 12.55629312,  9.37256389,\n",
       "        9.78435336,  9.51627819,  8.78273908, 10.66530063,  7.98835559,\n",
       "       10.27204231, 10.40021355,  8.36934281,  6.07915801, 11.64166909,\n",
       "        9.92092838, 11.89426372, 10.58456984,  8.65659534, 15.62391999,\n",
       "        7.75216281,  6.94780356, 14.65621059, 13.1411364 , 11.34355575,\n",
       "       11.87405564,  7.09751636,  8.13911933,  8.80811135, 15.39560877,\n",
       "        9.88473723, 11.46487809, 12.1930091 ,  6.56348041,  8.8653058 ,\n",
       "       11.50444194, 10.63173515, 14.47842679,  9.4764956 , 10.83828632,\n",
       "       10.30746955,  6.92000396,  9.26920215,  6.64547313,  9.80852591,\n",
       "        9.78751854, 10.57116736,  6.95014287, 11.54878285,  7.3899165 ,\n",
       "       12.48182124, 10.22924261,  6.70816407, 11.57631451, 13.56109986,\n",
       "        9.87462605, 11.06664226,  6.5610961 , 13.92807396,  9.28405931,\n",
       "        4.3148597 , 10.4917078 , 11.20233029, 11.21342968, 10.73456834,\n",
       "       10.47091842, 11.06017764,  7.11494549, 10.45277587, 12.29823837,\n",
       "       13.01113712, 16.90494148, 12.01637779, 11.84888165,  9.06860885,\n",
       "       10.36051274, 10.35315628,  7.66592762, 10.21036186, 11.53340238,\n",
       "        7.17865059, 11.28896207,  6.23450951, 11.52230792,  4.32535712,\n",
       "        7.73792298, 14.97735528,  9.59881176, 12.53618625, 13.66714653,\n",
       "        9.98430324, 12.43509337, 12.97429087,  8.92214475,  9.26730937,\n",
       "        7.4456496 ,  5.96237726,  9.21286705, 11.61447783,  7.73757089,\n",
       "        7.65390006,  9.01596857, 10.42249744, 11.52099072,  7.75681541,\n",
       "        8.60212711, 11.57045876,  9.81973424,  8.63620208, 11.96865818,\n",
       "       10.50084721, 10.15547089,  7.02881229,  8.45565583, 15.1169943 ,\n",
       "       11.48069275, 10.37382319,  8.44438977, 13.65861736,  6.76066974,\n",
       "       13.33156626,  8.28384777,  9.68357513,  7.55211618, 11.8209065 ,\n",
       "       11.44097366, 13.76083638, 10.96097776, 11.08031428,  6.04800282,\n",
       "        9.7939746 ,  6.96672889, 11.04128617,  9.14509695, 10.05870214,\n",
       "       11.12662734, 10.68244562, 10.95345495, 10.73505116,  8.11091147,\n",
       "        8.81676139, 10.66891838,  7.59370837,  9.26023329, 13.28515727,\n",
       "       10.83464911, 11.2605413 ,  9.85768588,  7.261592  ,  9.85962345,\n",
       "        9.39429406, 13.56829145, 11.41424216, 10.42768737, 12.10152701,\n",
       "        9.70136752, 14.33336662, 10.09659011,  6.04149675,  7.14942947,\n",
       "        9.99540973,  8.83197593, 11.02241996,  4.4581912 ,  9.36635993,\n",
       "       10.44178325,  9.42492445,  6.48218077,  9.77637717, 10.72543359,\n",
       "        8.84189096, 12.78791978, 10.28475486,  7.17179927, 10.30015403,\n",
       "        8.74860666,  8.50721962, 10.23583842, 15.76383871, 11.51853491,\n",
       "        8.96543789])"
      ]
     },
     "execution_count": 120,
     "metadata": {},
     "output_type": "execute_result"
    }
   ],
   "source": [
    "#initialising model\n",
    "rg=Ridge(alpha=0.01,normalize=True)\n",
    "#fit the model\n",
    "rg.fit(x_train,y_train)\n",
    "Ridge(alpha=0.01, normalize=True)\n",
    "#prediction\n",
    "rg_pred=rg.predict(x_test)\n",
    "rg_pred\n"
   ]
  },
  {
   "cell_type": "code",
   "execution_count": 121,
   "id": "3844aca9",
   "metadata": {},
   "outputs": [
    {
     "data": {
      "text/plain": [
       "array([-0.33691514, -0.71638302,  0.35855168,  1.00944884,  0.85973949,\n",
       "       -1.55149569,  0.07082519,  1.7371702 ])"
      ]
     },
     "execution_count": 121,
     "metadata": {},
     "output_type": "execute_result"
    }
   ],
   "source": [
    "rg.coef_"
   ]
  },
  {
   "cell_type": "code",
   "execution_count": 122,
   "id": "a00ad743",
   "metadata": {},
   "outputs": [
    {
     "data": {
      "text/plain": [
       "0.4413677677198504"
      ]
     },
     "execution_count": 122,
     "metadata": {},
     "output_type": "execute_result"
    }
   ],
   "source": [
    "metrics.r2_score(y_test,rg_pred)"
   ]
  },
  {
   "cell_type": "code",
   "execution_count": 123,
   "id": "2ae0121e",
   "metadata": {},
   "outputs": [
    {
     "data": {
      "text/plain": [
       "2.4029939654869223"
      ]
     },
     "execution_count": 123,
     "metadata": {},
     "output_type": "execute_result"
    }
   ],
   "source": [
    "np.sqrt(mean_squared_error(y_test,rg_pred))"
   ]
  }
 ],
 "metadata": {
  "kernelspec": {
   "display_name": "Python 3 (ipykernel)",
   "language": "python",
   "name": "python3"
  },
  "language_info": {
   "codemirror_mode": {
    "name": "ipython",
    "version": 3
   },
   "file_extension": ".py",
   "mimetype": "text/x-python",
   "name": "python",
   "nbconvert_exporter": "python",
   "pygments_lexer": "ipython3",
   "version": "3.10.4"
  }
 },
 "nbformat": 4,
 "nbformat_minor": 5
}
